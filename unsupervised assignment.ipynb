{
 "cells": [
  {
   "cell_type": "markdown",
   "id": "80efb987-19e9-48a8-976e-8f79ba1b84b1",
   "metadata": {},
   "source": [
    "# E Commerce data Assignment"
   ]
  },
  {
   "cell_type": "markdown",
   "id": "85c5f97a-a4de-4610-802b-4bd12b933e75",
   "metadata": {},
   "source": [
    "### Import Required libraries"
   ]
  },
  {
   "cell_type": "code",
   "execution_count": 1,
   "id": "f27a68f5-f532-424e-84c0-af80892d7846",
   "metadata": {},
   "outputs": [],
   "source": [
    "import pandas as pd\n",
    "import numpy as np\n",
    "import matplotlib.pyplot as plt\n",
    "import seaborn as sns"
   ]
  },
  {
   "cell_type": "markdown",
   "id": "9c0eafc6-bebb-4d7e-828d-e127772977a3",
   "metadata": {},
   "source": [
    "### Read the csv file"
   ]
  },
  {
   "cell_type": "code",
   "execution_count": 2,
   "id": "009c1de1-9cf2-49e1-a61d-d3578e3bc361",
   "metadata": {},
   "outputs": [
    {
     "name": "stderr",
     "output_type": "stream",
     "text": [
      "C:\\Users\\Manisha\\AppData\\Local\\Temp\\ipykernel_16748\\1686181277.py:1: DtypeWarning: Columns (9,10) have mixed types. Specify dtype option on import or set low_memory=False.\n",
      "  data = pd.read_csv(\"E-com_Data.csv\")\n"
     ]
    },
    {
     "data": {
      "text/html": [
       "<div>\n",
       "<style scoped>\n",
       "    .dataframe tbody tr th:only-of-type {\n",
       "        vertical-align: middle;\n",
       "    }\n",
       "\n",
       "    .dataframe tbody tr th {\n",
       "        vertical-align: top;\n",
       "    }\n",
       "\n",
       "    .dataframe thead th {\n",
       "        text-align: right;\n",
       "    }\n",
       "</style>\n",
       "<table border=\"1\" class=\"dataframe\">\n",
       "  <thead>\n",
       "    <tr style=\"text-align: right;\">\n",
       "      <th></th>\n",
       "      <th>CustomerID</th>\n",
       "      <th>Item Code</th>\n",
       "      <th>InvoieNo</th>\n",
       "      <th>Date of purchase</th>\n",
       "      <th>Quantity</th>\n",
       "      <th>Time</th>\n",
       "      <th>price per Unit</th>\n",
       "      <th>Price</th>\n",
       "      <th>Shipping Location</th>\n",
       "      <th>Cancelled_status</th>\n",
       "      <th>Reason of return</th>\n",
       "      <th>Sold as set</th>\n",
       "    </tr>\n",
       "  </thead>\n",
       "  <tbody>\n",
       "    <tr>\n",
       "      <th>0</th>\n",
       "      <td>4355.0</td>\n",
       "      <td>15734</td>\n",
       "      <td>398177.0</td>\n",
       "      <td>29-10-2017</td>\n",
       "      <td>6.0</td>\n",
       "      <td>3:36:00 PM</td>\n",
       "      <td>321.0</td>\n",
       "      <td>1926.0</td>\n",
       "      <td>Location 1</td>\n",
       "      <td>NaN</td>\n",
       "      <td>NaN</td>\n",
       "      <td>NaN</td>\n",
       "    </tr>\n",
       "    <tr>\n",
       "      <th>1</th>\n",
       "      <td>4352.0</td>\n",
       "      <td>14616</td>\n",
       "      <td>394422.0</td>\n",
       "      <td>05-10-2017</td>\n",
       "      <td>2.0</td>\n",
       "      <td>2:53:00 PM</td>\n",
       "      <td>870.0</td>\n",
       "      <td>1740.0</td>\n",
       "      <td>Location 1</td>\n",
       "      <td>NaN</td>\n",
       "      <td>NaN</td>\n",
       "      <td>NaN</td>\n",
       "    </tr>\n",
       "    <tr>\n",
       "      <th>2</th>\n",
       "      <td>4352.0</td>\n",
       "      <td>14614</td>\n",
       "      <td>394422.0</td>\n",
       "      <td>12-10-2017</td>\n",
       "      <td>2.0</td>\n",
       "      <td>2:53:00 PM</td>\n",
       "      <td>933.0</td>\n",
       "      <td>1866.0</td>\n",
       "      <td>Location 1</td>\n",
       "      <td>NaN</td>\n",
       "      <td>NaN</td>\n",
       "      <td>NaN</td>\n",
       "    </tr>\n",
       "    <tr>\n",
       "      <th>3</th>\n",
       "      <td>4352.0</td>\n",
       "      <td>85014B</td>\n",
       "      <td>388633.0</td>\n",
       "      <td>22-08-2017</td>\n",
       "      <td>3.0</td>\n",
       "      <td>2:47:00 PM</td>\n",
       "      <td>623.0</td>\n",
       "      <td>1869.0</td>\n",
       "      <td>Location 1</td>\n",
       "      <td>NaN</td>\n",
       "      <td>NaN</td>\n",
       "      <td>NaN</td>\n",
       "    </tr>\n",
       "    <tr>\n",
       "      <th>4</th>\n",
       "      <td>4352.0</td>\n",
       "      <td>15364</td>\n",
       "      <td>394422.0</td>\n",
       "      <td>10-10-2017</td>\n",
       "      <td>2.0</td>\n",
       "      <td>2:53:00 PM</td>\n",
       "      <td>944.0</td>\n",
       "      <td>1888.0</td>\n",
       "      <td>Location 1</td>\n",
       "      <td>NaN</td>\n",
       "      <td>NaN</td>\n",
       "      <td>NaN</td>\n",
       "    </tr>\n",
       "  </tbody>\n",
       "</table>\n",
       "</div>"
      ],
      "text/plain": [
       "   CustomerID Item Code  InvoieNo Date of purchase  Quantity        Time  \\\n",
       "0      4355.0     15734  398177.0       29-10-2017       6.0  3:36:00 PM   \n",
       "1      4352.0     14616  394422.0       05-10-2017       2.0  2:53:00 PM   \n",
       "2      4352.0     14614  394422.0       12-10-2017       2.0  2:53:00 PM   \n",
       "3      4352.0    85014B  388633.0       22-08-2017       3.0  2:47:00 PM   \n",
       "4      4352.0     15364  394422.0       10-10-2017       2.0  2:53:00 PM   \n",
       "\n",
       "   price per Unit   Price Shipping Location Cancelled_status Reason of return  \\\n",
       "0           321.0  1926.0        Location 1              NaN              NaN   \n",
       "1           870.0  1740.0        Location 1              NaN              NaN   \n",
       "2           933.0  1866.0        Location 1              NaN              NaN   \n",
       "3           623.0  1869.0        Location 1              NaN              NaN   \n",
       "4           944.0  1888.0        Location 1              NaN              NaN   \n",
       "\n",
       "   Sold as set  \n",
       "0          NaN  \n",
       "1          NaN  \n",
       "2          NaN  \n",
       "3          NaN  \n",
       "4          NaN  "
      ]
     },
     "execution_count": 2,
     "metadata": {},
     "output_type": "execute_result"
    }
   ],
   "source": [
    "data = pd.read_csv(\"E-com_Data.csv\")\n",
    "data.head()"
   ]
  },
  {
   "cell_type": "markdown",
   "id": "f15745f0-1882-459c-8a21-e626049722db",
   "metadata": {},
   "source": [
    "### Check the shape of the data\n",
    "- 5 lack 41k rows and 12 columns are present in the dataset"
   ]
  },
  {
   "cell_type": "code",
   "execution_count": 3,
   "id": "928edb51-6e19-401e-a0fe-37051e64c4c6",
   "metadata": {},
   "outputs": [
    {
     "data": {
      "text/plain": [
       "(541116, 12)"
      ]
     },
     "execution_count": 3,
     "metadata": {},
     "output_type": "execute_result"
    }
   ],
   "source": [
    "data.shape"
   ]
  },
  {
   "cell_type": "markdown",
   "id": "53684230-9829-453f-8e6d-26914a2a7f5e",
   "metadata": {},
   "source": [
    "### Check the information about the data"
   ]
  },
  {
   "cell_type": "code",
   "execution_count": 4,
   "id": "c91e27a4-8eff-4632-a968-0498989abb11",
   "metadata": {},
   "outputs": [
    {
     "name": "stdout",
     "output_type": "stream",
     "text": [
      "<class 'pandas.core.frame.DataFrame'>\n",
      "RangeIndex: 541116 entries, 0 to 541115\n",
      "Data columns (total 12 columns):\n",
      " #   Column             Non-Null Count   Dtype  \n",
      "---  ------             --------------   -----  \n",
      " 0   CustomerID         404189 non-null  float64\n",
      " 1   Item Code          537979 non-null  object \n",
      " 2   InvoieNo           537979 non-null  float64\n",
      " 3   Date of purchase   537979 non-null  object \n",
      " 4   Quantity           537979 non-null  float64\n",
      " 5   Time               537979 non-null  object \n",
      " 6   price per Unit     537979 non-null  float64\n",
      " 7   Price              537979 non-null  float64\n",
      " 8   Shipping Location  537979 non-null  object \n",
      " 9   Cancelled_status   8345 non-null    object \n",
      " 10  Reason of return   3 non-null       object \n",
      " 11  Sold as set        0 non-null       float64\n",
      "dtypes: float64(6), object(6)\n",
      "memory usage: 49.5+ MB\n"
     ]
    }
   ],
   "source": [
    "data.info()"
   ]
  },
  {
   "cell_type": "markdown",
   "id": "3cd112e1-5744-409c-9267-e8cb2aa12aee",
   "metadata": {},
   "source": [
    "### Check the duplicates \n",
    "- 3145 duplicate values are present in the data\n"
   ]
  },
  {
   "cell_type": "code",
   "execution_count": 5,
   "id": "fe23603c-711a-4118-831b-2e25d99c50c6",
   "metadata": {},
   "outputs": [
    {
     "data": {
      "text/plain": [
       "3145"
      ]
     },
     "execution_count": 5,
     "metadata": {},
     "output_type": "execute_result"
    }
   ],
   "source": [
    "data.duplicated().sum()"
   ]
  },
  {
   "cell_type": "markdown",
   "id": "d92ed6c7-3464-4872-bbea-3fcf8c5d09ba",
   "metadata": {},
   "source": [
    "### Drop Duplicated values\n",
    "- In order to reduce data redundancy and insure data integrity removing duplicate values are necessary"
   ]
  },
  {
   "cell_type": "code",
   "execution_count": 6,
   "id": "7a6c8dc4-5643-4dc4-895b-6936779dce26",
   "metadata": {},
   "outputs": [],
   "source": [
    "data.drop_duplicates(inplace=True)"
   ]
  },
  {
   "cell_type": "markdown",
   "id": "6366c8c1-1719-4a16-8850-98392598c920",
   "metadata": {},
   "source": [
    "### Check duplicates values \n",
    "- Verify the removal of duplicate entries by rechecking the dataset to ensure the operation was successfully completed."
   ]
  },
  {
   "cell_type": "code",
   "execution_count": 7,
   "id": "1aff5463-45e1-45ad-9c27-54ed1b02a518",
   "metadata": {},
   "outputs": [
    {
     "data": {
      "text/plain": [
       "0"
      ]
     },
     "execution_count": 7,
     "metadata": {},
     "output_type": "execute_result"
    }
   ],
   "source": [
    "data.duplicated().sum()"
   ]
  },
  {
   "cell_type": "markdown",
   "id": "d2c3a853-f9e4-4d9b-b711-2ca9aeff8f1e",
   "metadata": {},
   "source": [
    "### Check null values\n",
    "- Cancelled_status, Reason of return, Sold as set these columns contain null values above 90 percent\n",
    "- removing above features\n",
    "- CustomerID contains 25 percent null values\n",
    "- droping null vaues and keeping the customerid feature since it is important for the model building\n",
    "- and rest of the columns has each null values\n",
    "- simply dropping these null values"
   ]
  },
  {
   "cell_type": "code",
   "execution_count": 8,
   "id": "74d8b74f-3221-429e-94b6-28fb590b004a",
   "metadata": {},
   "outputs": [
    {
     "name": "stdout",
     "output_type": "stream",
     "text": [
      "CustomerID           133790\n",
      "Item Code                 1\n",
      "InvoieNo                  1\n",
      "Date of purchase          1\n",
      "Quantity                  1\n",
      "Time                      1\n",
      "price per Unit            1\n",
      "Price                     1\n",
      "Shipping Location         1\n",
      "Cancelled_status     529626\n",
      "Reason of return     537968\n",
      "Sold as set          537971\n",
      "dtype: int64\n",
      "--------------------------------------------------\n",
      "Null values in percent\n"
     ]
    },
    {
     "data": {
      "text/plain": [
       "CustomerID            24.869370\n",
       "Item Code              0.000186\n",
       "InvoieNo               0.000186\n",
       "Date of purchase       0.000186\n",
       "Quantity               0.000186\n",
       "Time                   0.000186\n",
       "price per Unit         0.000186\n",
       "Price                  0.000186\n",
       "Shipping Location      0.000186\n",
       "Cancelled_status      98.448801\n",
       "Reason of return      99.999442\n",
       "Sold as set          100.000000\n",
       "dtype: float64"
      ]
     },
     "execution_count": 8,
     "metadata": {},
     "output_type": "execute_result"
    }
   ],
   "source": [
    "print(data.isna().sum())\n",
    "print(\"-\"*50)\n",
    "print(\"Null values in percent\")\n",
    "data.isna().sum()/len(data)*100"
   ]
  },
  {
   "cell_type": "code",
   "execution_count": 9,
   "id": "5d1f5b34-0581-415f-b26d-67ab254995eb",
   "metadata": {},
   "outputs": [],
   "source": [
    "data[\"Time\"]=data[\"Time\"].str[:-2]\n",
    "data[\"date\"]=data[\"Date of purchase\"]+\" \"+data[\"Time\"]"
   ]
  },
  {
   "cell_type": "code",
   "execution_count": 10,
   "id": "62823a47-80eb-4414-b76a-049c00aad0c6",
   "metadata": {},
   "outputs": [],
   "source": [
    "data.drop(columns=[\"Cancelled_status\",\"Reason of return\",\"Sold as set\",\"Date of purchase\",\"Time\"], inplace=True)"
   ]
  },
  {
   "cell_type": "code",
   "execution_count": 11,
   "id": "01bdb67c-fcfb-4c1f-868f-d578ba337ce0",
   "metadata": {},
   "outputs": [],
   "source": [
    "data.dropna(inplace=True)"
   ]
  },
  {
   "cell_type": "markdown",
   "id": "5d1ec164-cebe-4809-86f9-821c091679ff",
   "metadata": {},
   "source": [
    "### Cross checking null values\n",
    "- Successfully dealth with the null values"
   ]
  },
  {
   "cell_type": "code",
   "execution_count": 12,
   "id": "585f07e9-a381-48ed-8feb-79d4d9da0e27",
   "metadata": {},
   "outputs": [
    {
     "data": {
      "text/plain": [
       "CustomerID           0\n",
       "Item Code            0\n",
       "InvoieNo             0\n",
       "Quantity             0\n",
       "price per Unit       0\n",
       "Price                0\n",
       "Shipping Location    0\n",
       "date                 0\n",
       "dtype: int64"
      ]
     },
     "execution_count": 12,
     "metadata": {},
     "output_type": "execute_result"
    }
   ],
   "source": [
    "data.isna().sum()"
   ]
  },
  {
   "cell_type": "markdown",
   "id": "d05acf70-fd87-4970-bb37-719f6146e056",
   "metadata": {},
   "source": [
    "### Changing the data types of features"
   ]
  },
  {
   "cell_type": "code",
   "execution_count": 13,
   "id": "c37c2aa9-0826-43f9-8294-3f72c2f743cc",
   "metadata": {},
   "outputs": [
    {
     "name": "stderr",
     "output_type": "stream",
     "text": [
      "C:\\Users\\Manisha\\AppData\\Local\\Temp\\ipykernel_16748\\4111502700.py:6: UserWarning: Parsing dates in %d-%m-%Y %H:%M:%S  format when dayfirst=False (the default) was specified. Pass `dayfirst=True` or specify a format to silence this warning.\n",
      "  data[\"date\"]=pd.to_datetime(data[\"date\"])\n"
     ]
    }
   ],
   "source": [
    "data[\"CustomerID\"]=data[\"CustomerID\"].astype(int)\n",
    "data[\"InvoieNo\"]=data[\"InvoieNo\"].astype(int)\n",
    "data[\"Quantity\"]=data[\"Quantity\"].astype(int)\n",
    "data[\"price per Unit\"]=data[\"price per Unit\"].astype(int)\n",
    "data[\"Price\"]=data[\"Price\"].astype(int)\n",
    "data[\"date\"]=pd.to_datetime(data[\"date\"])"
   ]
  },
  {
   "cell_type": "markdown",
   "id": "e119efa9-9047-4b8f-8c16-14617a451e70",
   "metadata": {},
   "source": [
    "- In Quanity feature there are some negative quantities which can lead to wrong analysis \n",
    "- so it is better not to consider those values"
   ]
  },
  {
   "cell_type": "code",
   "execution_count": 14,
   "id": "7d13fdaf-115d-4398-ae96-169d4874a9f5",
   "metadata": {},
   "outputs": [],
   "source": [
    "new_data=data[data[\"Quantity\"] > 0]"
   ]
  },
  {
   "cell_type": "code",
   "execution_count": 15,
   "id": "308cf538-fe8f-4bff-b93d-d0f5dbbaf9a8",
   "metadata": {},
   "outputs": [
    {
     "name": "stderr",
     "output_type": "stream",
     "text": [
      "C:\\Users\\Manisha\\AppData\\Local\\Temp\\ipykernel_16748\\3965493294.py:2: SettingWithCopyWarning: \n",
      "A value is trying to be set on a copy of a slice from a DataFrame.\n",
      "Try using .loc[row_indexer,col_indexer] = value instead\n",
      "\n",
      "See the caveats in the documentation: https://pandas.pydata.org/pandas-docs/stable/user_guide/indexing.html#returning-a-view-versus-a-copy\n",
      "  new_data[\"total_price\"]=new_data[\"Price\"]*new_data[\"price per Unit\"]\n"
     ]
    }
   ],
   "source": [
    "# Getting total price from price and price per unit feature as total price\n",
    "new_data[\"total_price\"]=new_data[\"Price\"]*new_data[\"price per Unit\"]"
   ]
  },
  {
   "cell_type": "code",
   "execution_count": 16,
   "id": "a9a19d74-9178-4261-b810-648d89982032",
   "metadata": {},
   "outputs": [
    {
     "data": {
      "text/html": [
       "<div>\n",
       "<style scoped>\n",
       "    .dataframe tbody tr th:only-of-type {\n",
       "        vertical-align: middle;\n",
       "    }\n",
       "\n",
       "    .dataframe tbody tr th {\n",
       "        vertical-align: top;\n",
       "    }\n",
       "\n",
       "    .dataframe thead th {\n",
       "        text-align: right;\n",
       "    }\n",
       "</style>\n",
       "<table border=\"1\" class=\"dataframe\">\n",
       "  <thead>\n",
       "    <tr style=\"text-align: right;\">\n",
       "      <th></th>\n",
       "      <th>CustomerID</th>\n",
       "      <th>Item Code</th>\n",
       "      <th>InvoieNo</th>\n",
       "      <th>Quantity</th>\n",
       "      <th>price per Unit</th>\n",
       "      <th>Price</th>\n",
       "      <th>Shipping Location</th>\n",
       "      <th>date</th>\n",
       "      <th>total_price</th>\n",
       "    </tr>\n",
       "  </thead>\n",
       "  <tbody>\n",
       "    <tr>\n",
       "      <th>0</th>\n",
       "      <td>4355</td>\n",
       "      <td>15734</td>\n",
       "      <td>398177</td>\n",
       "      <td>6</td>\n",
       "      <td>321</td>\n",
       "      <td>1926</td>\n",
       "      <td>Location 1</td>\n",
       "      <td>2017-10-29 03:36:00</td>\n",
       "      <td>618246</td>\n",
       "    </tr>\n",
       "    <tr>\n",
       "      <th>1</th>\n",
       "      <td>4352</td>\n",
       "      <td>14616</td>\n",
       "      <td>394422</td>\n",
       "      <td>2</td>\n",
       "      <td>870</td>\n",
       "      <td>1740</td>\n",
       "      <td>Location 1</td>\n",
       "      <td>2017-10-05 02:53:00</td>\n",
       "      <td>1513800</td>\n",
       "    </tr>\n",
       "    <tr>\n",
       "      <th>2</th>\n",
       "      <td>4352</td>\n",
       "      <td>14614</td>\n",
       "      <td>394422</td>\n",
       "      <td>2</td>\n",
       "      <td>933</td>\n",
       "      <td>1866</td>\n",
       "      <td>Location 1</td>\n",
       "      <td>2017-10-12 02:53:00</td>\n",
       "      <td>1740978</td>\n",
       "    </tr>\n",
       "    <tr>\n",
       "      <th>3</th>\n",
       "      <td>4352</td>\n",
       "      <td>85014B</td>\n",
       "      <td>388633</td>\n",
       "      <td>3</td>\n",
       "      <td>623</td>\n",
       "      <td>1869</td>\n",
       "      <td>Location 1</td>\n",
       "      <td>2017-08-22 02:47:00</td>\n",
       "      <td>1164387</td>\n",
       "    </tr>\n",
       "    <tr>\n",
       "      <th>4</th>\n",
       "      <td>4352</td>\n",
       "      <td>15364</td>\n",
       "      <td>394422</td>\n",
       "      <td>2</td>\n",
       "      <td>944</td>\n",
       "      <td>1888</td>\n",
       "      <td>Location 1</td>\n",
       "      <td>2017-10-10 02:53:00</td>\n",
       "      <td>1782272</td>\n",
       "    </tr>\n",
       "  </tbody>\n",
       "</table>\n",
       "</div>"
      ],
      "text/plain": [
       "   CustomerID Item Code  InvoieNo  Quantity  price per Unit  Price  \\\n",
       "0        4355     15734    398177         6             321   1926   \n",
       "1        4352     14616    394422         2             870   1740   \n",
       "2        4352     14614    394422         2             933   1866   \n",
       "3        4352    85014B    388633         3             623   1869   \n",
       "4        4352     15364    394422         2             944   1888   \n",
       "\n",
       "  Shipping Location                date  total_price  \n",
       "0        Location 1 2017-10-29 03:36:00       618246  \n",
       "1        Location 1 2017-10-05 02:53:00      1513800  \n",
       "2        Location 1 2017-10-12 02:53:00      1740978  \n",
       "3        Location 1 2017-08-22 02:47:00      1164387  \n",
       "4        Location 1 2017-10-10 02:53:00      1782272  "
      ]
     },
     "execution_count": 16,
     "metadata": {},
     "output_type": "execute_result"
    }
   ],
   "source": [
    "new_data.head()"
   ]
  },
  {
   "cell_type": "code",
   "execution_count": 17,
   "id": "27142868-6ff7-455b-99c7-51b3256bfc06",
   "metadata": {},
   "outputs": [
    {
     "name": "stdout",
     "output_type": "stream",
     "text": [
      "<class 'pandas.core.frame.DataFrame'>\n",
      "Index: 395998 entries, 0 to 537949\n",
      "Data columns (total 9 columns):\n",
      " #   Column             Non-Null Count   Dtype         \n",
      "---  ------             --------------   -----         \n",
      " 0   CustomerID         395998 non-null  int32         \n",
      " 1   Item Code          395998 non-null  object        \n",
      " 2   InvoieNo           395998 non-null  int32         \n",
      " 3   Quantity           395998 non-null  int32         \n",
      " 4   price per Unit     395998 non-null  int32         \n",
      " 5   Price              395998 non-null  int32         \n",
      " 6   Shipping Location  395998 non-null  object        \n",
      " 7   date               395998 non-null  datetime64[ns]\n",
      " 8   total_price        395998 non-null  int32         \n",
      "dtypes: datetime64[ns](1), int32(6), object(2)\n",
      "memory usage: 21.1+ MB\n"
     ]
    }
   ],
   "source": [
    "new_data.info()"
   ]
  },
  {
   "cell_type": "markdown",
   "id": "8a7e4f63-89a4-4f8a-b664-058566b43210",
   "metadata": {},
   "source": [
    "### Univariate Analysis\n",
    "#### Numerical Features"
   ]
  },
  {
   "cell_type": "code",
   "execution_count": 18,
   "id": "517ae4c0-a83a-41e5-8207-db3157340e0b",
   "metadata": {
    "scrolled": true
   },
   "outputs": [
    {
     "data": {
      "image/png": "[encoded data removed]",
      "text/plain": [
       "<Figure size 600x400 with 1 Axes>"
      ]
     },
     "metadata": {},
     "output_type": "display_data"
    },
    {
     "data": {
      "image/png": "[encoded data removed]",
      "text/plain": [
       "<Figure size 600x400 with 1 Axes>"
      ]
     },
     "metadata": {},
     "output_type": "display_data"
    },
    {
     "data": {
      "image/png": "[encoded data removed]",
      "text/plain": [
       "<Figure size 600x400 with 1 Axes>"
      ]
     },
     "metadata": {},
     "output_type": "display_data"
    },
    {
     "data": {
      "image/png": "[encoded data removed]",
      "text/plain": [
       "<Figure size 600x400 with 1 Axes>"
      ]
     },
     "metadata": {},
     "output_type": "display_data"
    }
   ],
   "source": [
    "cols=[\"Quantity\",\"price per Unit\",\"Price\",\"total_price\"]\n",
    "for i in cols:\n",
    "    plt.figure(figsize=(6,4))\n",
    "    sns.histplot(new_data[i], kde=True, bins=36)"
   ]
  },
  {
   "cell_type": "code",
   "execution_count": 19,
   "id": "ab1831ab-d244-4050-adbd-d7859c49cac6",
   "metadata": {
    "scrolled": true
   },
   "outputs": [
    {
     "data": {
      "image/png": "[encoded data removed]",
      "text/plain": [
       "<Figure size 600x400 with 1 Axes>"
      ]
     },
     "metadata": {},
     "output_type": "display_data"
    },
    {
     "data": {
      "image/png": "[encoded data removed]",
      "text/plain": [
       "<Figure size 600x400 with 1 Axes>"
      ]
     },
     "metadata": {},
     "output_type": "display_data"
    },
    {
     "data": {
      "image/png": "[encoded data removed]",
      "text/plain": [
       "<Figure size 600x400 with 1 Axes>"
      ]
     },
     "metadata": {},
     "output_type": "display_data"
    },
    {
     "data": {
      "image/png": "[encoded data removed]",
      "text/plain": [
       "<Figure size 600x400 with 1 Axes>"
      ]
     },
     "metadata": {},
     "output_type": "display_data"
    }
   ],
   "source": [
    "cols=[\"Quantity\",\"price per Unit\",\"Price\",\"total_price\"]\n",
    "for i in cols:\n",
    "    plt.figure(figsize=(6,4))\n",
    "    sns.boxplot(new_data[i])"
   ]
  },
  {
   "cell_type": "markdown",
   "id": "7ae1c4dd-2cb6-4d0a-b0e3-063e02389736",
   "metadata": {},
   "source": [
    "### Outliers\n",
    "- Replacing outliers with the median can help improve model performance by reducing the impact of extreme values.\""
   ]
  },
  {
   "cell_type": "code",
   "execution_count": 20,
   "id": "08df29c9-a844-48e7-8960-c715caa1bcf5",
   "metadata": {},
   "outputs": [
    {
     "name": "stdout",
     "output_type": "stream",
     "text": [
      "Quantity 25121\n",
      "Quantity 0\n",
      "price per Unit 34234\n",
      "price per Unit 0\n",
      "Price 31146\n",
      "Price 0\n",
      "total_price 37461\n",
      "total_price 0\n"
     ]
    }
   ],
   "source": [
    "cols=[\"Quantity\",\"price per Unit\",\"Price\",\"total_price\"]\n",
    "for i in cols:\n",
    "    q1 = new_data[i].quantile(0.25)\n",
    "    q3 = new_data[i].quantile(0.75)\n",
    "    iqr = q3-q1\n",
    "    upper = q3+(1.5*iqr)\n",
    "    lower = q1-(1.5*iqr)\n",
    "    print(i,len(new_data[(new_data[i]<lower) | (new_data[i]>upper)]))\n",
    "    new_data.loc[(new_data[i]<lower) | (new_data[i]>upper),i]=new_data[i].median()\n",
    "    print(i,len(new_data[(new_data[i]<lower) | (new_data[i]>upper)]))"
   ]
  },
  {
   "cell_type": "markdown",
   "id": "46c44368-34e9-4015-98f0-bb85108c9da2",
   "metadata": {},
   "source": [
    "### Univariate analysis after dealing with outliers"
   ]
  },
  {
   "cell_type": "code",
   "execution_count": 21,
   "id": "ca4e0b35-3f6b-423e-bdab-6446c8056850",
   "metadata": {
    "scrolled": true
   },
   "outputs": [
    {
     "data": {
      "image/png": "[encoded data removed]",
      "text/plain": [
       "<Figure size 600x400 with 1 Axes>"
      ]
     },
     "metadata": {},
     "output_type": "display_data"
    },
    {
     "data": {
      "image/png": "[encoded data removed]",
      "text/plain": [
       "<Figure size 600x400 with 1 Axes>"
      ]
     },
     "metadata": {},
     "output_type": "display_data"
    },
    {
     "data": {
      "image/png": "[encoded data removed]",
      "text/plain": [
       "<Figure size 600x400 with 1 Axes>"
      ]
     },
     "metadata": {},
     "output_type": "display_data"
    },
    {
     "data": {
      "image/png": "[encoded data removed]",
      "text/plain": [
       "<Figure size 600x400 with 1 Axes>"
      ]
     },
     "metadata": {},
     "output_type": "display_data"
    }
   ],
   "source": [
    "cols=[\"Quantity\",\"price per Unit\",\"Price\",\"total_price\"]\n",
    "for i in cols:\n",
    "    plt.figure(figsize=(6,4))\n",
    "    sns.histplot(new_data[i], bins=36, kde=True)\n",
    "    plt.show()"
   ]
  },
  {
   "cell_type": "code",
   "execution_count": 22,
   "id": "1a1d087e-f5f6-493c-8208-97936e2608f4",
   "metadata": {
    "scrolled": true
   },
   "outputs": [
    {
     "data": {
      "image/png": "[encoded data removed]",
      "text/plain": [
       "<Figure size 600x400 with 1 Axes>"
      ]
     },
     "metadata": {},
     "output_type": "display_data"
    },
    {
     "data": {
      "image/png": "[encoded data removed]",
      "text/plain": [
       "<Figure size 600x400 with 1 Axes>"
      ]
     },
     "metadata": {},
     "output_type": "display_data"
    },
    {
     "data": {
      "image/png": "[encoded data removed]",
      "text/plain": [
       "<Figure size 600x400 with 1 Axes>"
      ]
     },
     "metadata": {},
     "output_type": "display_data"
    },
    {
     "data": {
      "image/png": "[encoded data removed]",
      "text/plain": [
       "<Figure size 600x400 with 1 Axes>"
      ]
     },
     "metadata": {},
     "output_type": "display_data"
    }
   ],
   "source": [
    "cols=[\"Quantity\",\"price per Unit\",\"Price\",\"total_price\"]\n",
    "for i in cols:\n",
    "    plt.figure(figsize=(6,4))\n",
    "    sns.boxplot(new_data[i])"
   ]
  },
  {
   "cell_type": "markdown",
   "id": "f0ff6bf1-789e-43ac-bdf0-cd4bd8d1ba45",
   "metadata": {},
   "source": [
    "### Find shortest and longest date"
   ]
  },
  {
   "cell_type": "code",
   "execution_count": 23,
   "id": "33f8d990-594f-4e08-a218-baa924295f25",
   "metadata": {},
   "outputs": [
    {
     "data": {
      "text/plain": [
       "Timestamp('2016-12-02 01:04:00')"
      ]
     },
     "execution_count": 23,
     "metadata": {},
     "output_type": "execute_result"
    }
   ],
   "source": [
    "new_data[\"date\"].min()"
   ]
  },
  {
   "cell_type": "code",
   "execution_count": 24,
   "id": "27736805-4456-4e24-b5da-e840bd933031",
   "metadata": {},
   "outputs": [
    {
     "data": {
      "text/plain": [
       "Timestamp('2017-12-19 12:50:00')"
      ]
     },
     "execution_count": 24,
     "metadata": {},
     "output_type": "execute_result"
    }
   ],
   "source": [
    "# Snapshot date\n",
    "new_data[\"date\"].max()"
   ]
  },
  {
   "cell_type": "markdown",
   "id": "5b7dfcad-c613-49ac-a0a4-9525c65b2d2b",
   "metadata": {},
   "source": [
    "### Creating Recency feature"
   ]
  },
  {
   "cell_type": "code",
   "execution_count": 25,
   "id": "45dab0d3-207d-423e-878a-a5932f282d48",
   "metadata": {},
   "outputs": [
    {
     "name": "stderr",
     "output_type": "stream",
     "text": [
      "C:\\Users\\Manisha\\AppData\\Local\\Temp\\ipykernel_16748\\1958115414.py:1: SettingWithCopyWarning: \n",
      "A value is trying to be set on a copy of a slice from a DataFrame.\n",
      "Try using .loc[row_indexer,col_indexer] = value instead\n",
      "\n",
      "See the caveats in the documentation: https://pandas.pydata.org/pandas-docs/stable/user_guide/indexing.html#returning-a-view-versus-a-copy\n",
      "  new_data[\"recency\"]=new_data[\"date\"].max() - new_data[\"date\"]\n"
     ]
    }
   ],
   "source": [
    "new_data[\"recency\"]=new_data[\"date\"].max() - new_data[\"date\"]"
   ]
  },
  {
   "cell_type": "code",
   "execution_count": 26,
   "id": "daaa8aa2-53de-4c53-81d4-b1003601ca29",
   "metadata": {},
   "outputs": [
    {
     "data": {
      "text/plain": [
       "4324"
      ]
     },
     "execution_count": 26,
     "metadata": {},
     "output_type": "execute_result"
    }
   ],
   "source": [
    "new_data[\"CustomerID\"].nunique()"
   ]
  },
  {
   "cell_type": "code",
   "execution_count": 27,
   "id": "758c78c3-6cee-4746-a4e0-70569c177c63",
   "metadata": {},
   "outputs": [
    {
     "data": {
      "text/html": [
       "<div>\n",
       "<style scoped>\n",
       "    .dataframe tbody tr th:only-of-type {\n",
       "        vertical-align: middle;\n",
       "    }\n",
       "\n",
       "    .dataframe tbody tr th {\n",
       "        vertical-align: top;\n",
       "    }\n",
       "\n",
       "    .dataframe thead th {\n",
       "        text-align: right;\n",
       "    }\n",
       "</style>\n",
       "<table border=\"1\" class=\"dataframe\">\n",
       "  <thead>\n",
       "    <tr style=\"text-align: right;\">\n",
       "      <th></th>\n",
       "      <th>CustomerID</th>\n",
       "      <th>date</th>\n",
       "    </tr>\n",
       "  </thead>\n",
       "  <tbody>\n",
       "    <tr>\n",
       "      <th>0</th>\n",
       "      <td>2</td>\n",
       "      <td>2016-12-08 02:57:00</td>\n",
       "    </tr>\n",
       "    <tr>\n",
       "      <th>1</th>\n",
       "      <td>3</td>\n",
       "      <td>2016-12-19 07:09:00</td>\n",
       "    </tr>\n",
       "    <tr>\n",
       "      <th>2</th>\n",
       "      <td>4</td>\n",
       "      <td>2017-11-22 09:51:00</td>\n",
       "    </tr>\n",
       "    <tr>\n",
       "      <th>3</th>\n",
       "      <td>5</td>\n",
       "      <td>2017-02-03 04:01:00</td>\n",
       "    </tr>\n",
       "    <tr>\n",
       "      <th>4</th>\n",
       "      <td>6</td>\n",
       "      <td>2017-02-17 12:33:00</td>\n",
       "    </tr>\n",
       "    <tr>\n",
       "      <th>...</th>\n",
       "      <td>...</td>\n",
       "      <td>...</td>\n",
       "    </tr>\n",
       "    <tr>\n",
       "      <th>4319</th>\n",
       "      <td>4368</td>\n",
       "      <td>2017-03-08 09:52:00</td>\n",
       "    </tr>\n",
       "    <tr>\n",
       "      <th>4320</th>\n",
       "      <td>4369</td>\n",
       "      <td>2017-06-16 10:53:00</td>\n",
       "    </tr>\n",
       "    <tr>\n",
       "      <th>4321</th>\n",
       "      <td>4370</td>\n",
       "      <td>2017-08-06 01:35:00</td>\n",
       "    </tr>\n",
       "    <tr>\n",
       "      <th>4322</th>\n",
       "      <td>4371</td>\n",
       "      <td>2017-01-07 02:14:00</td>\n",
       "    </tr>\n",
       "    <tr>\n",
       "      <th>4323</th>\n",
       "      <td>4372</td>\n",
       "      <td>2017-05-23 10:39:00</td>\n",
       "    </tr>\n",
       "  </tbody>\n",
       "</table>\n",
       "<p>4324 rows × 2 columns</p>\n",
       "</div>"
      ],
      "text/plain": [
       "      CustomerID                date\n",
       "0              2 2016-12-08 02:57:00\n",
       "1              3 2016-12-19 07:09:00\n",
       "2              4 2017-11-22 09:51:00\n",
       "3              5 2017-02-03 04:01:00\n",
       "4              6 2017-02-17 12:33:00\n",
       "...          ...                 ...\n",
       "4319        4368 2017-03-08 09:52:00\n",
       "4320        4369 2017-06-16 10:53:00\n",
       "4321        4370 2017-08-06 01:35:00\n",
       "4322        4371 2017-01-07 02:14:00\n",
       "4323        4372 2017-05-23 10:39:00\n",
       "\n",
       "[4324 rows x 2 columns]"
      ]
     },
     "execution_count": 27,
     "metadata": {},
     "output_type": "execute_result"
    }
   ],
   "source": [
    "# For each customer, find their most recent purchase date\n",
    "cust_purchase=new_data.groupby(\"CustomerID\")[\"date\"].min()\n",
    "cust_purchase=cust_purchase.reset_index()\n",
    "cust_purchase"
   ]
  },
  {
   "cell_type": "code",
   "execution_count": 28,
   "id": "81e348ea-e54f-49f1-b174-2d01db883918",
   "metadata": {},
   "outputs": [],
   "source": [
    "# Calculate the number of days between the snapshot date and the \n",
    "# customer's last purchase date. (Lower value = More Recent).\n",
    "cust_purchase_lastdate=new_data.groupby(\"CustomerID\")[\"date\"].max()\n",
    "cust_purchase_lastdate=cust_purchase_lastdate.reset_index()\n",
    "cust_purchase_lastdate[\"days\"]=data[\"date\"].max() - cust_purchase_lastdate[\"date\"]"
   ]
  },
  {
   "cell_type": "code",
   "execution_count": 29,
   "id": "5f7984d4-a477-4499-89be-160a5da10237",
   "metadata": {},
   "outputs": [],
   "source": [
    "cust_purchase_lastdate[\"recency\"]=cust_purchase_lastdate[\"days\"].dt.days"
   ]
  },
  {
   "cell_type": "code",
   "execution_count": 30,
   "id": "1f652e35-a8b4-4e05-a761-ad857edab068",
   "metadata": {},
   "outputs": [],
   "source": [
    "cust_purchase_lastdate.sort_values(by=\"recency\")\n",
    "recency_dataframe=cust_purchase_lastdate[[\"CustomerID\",\"recency\"]]"
   ]
  },
  {
   "cell_type": "code",
   "execution_count": 31,
   "id": "4525a3c3-3db3-4f66-990c-76aed102e0bd",
   "metadata": {},
   "outputs": [
    {
     "data": {
      "text/html": [
       "<div>\n",
       "<style scoped>\n",
       "    .dataframe tbody tr th:only-of-type {\n",
       "        vertical-align: middle;\n",
       "    }\n",
       "\n",
       "    .dataframe tbody tr th {\n",
       "        vertical-align: top;\n",
       "    }\n",
       "\n",
       "    .dataframe thead th {\n",
       "        text-align: right;\n",
       "    }\n",
       "</style>\n",
       "<table border=\"1\" class=\"dataframe\">\n",
       "  <thead>\n",
       "    <tr style=\"text-align: right;\">\n",
       "      <th></th>\n",
       "      <th>CustomerID</th>\n",
       "      <th>date</th>\n",
       "      <th>days</th>\n",
       "      <th>recency</th>\n",
       "    </tr>\n",
       "  </thead>\n",
       "  <tbody>\n",
       "    <tr>\n",
       "      <th>0</th>\n",
       "      <td>2</td>\n",
       "      <td>2017-12-16 03:52:00</td>\n",
       "      <td>3 days 08:58:00</td>\n",
       "      <td>3</td>\n",
       "    </tr>\n",
       "    <tr>\n",
       "      <th>1</th>\n",
       "      <td>3</td>\n",
       "      <td>2017-10-04 01:13:00</td>\n",
       "      <td>76 days 11:37:00</td>\n",
       "      <td>76</td>\n",
       "    </tr>\n",
       "    <tr>\n",
       "      <th>2</th>\n",
       "      <td>4</td>\n",
       "      <td>2017-12-01 09:51:00</td>\n",
       "      <td>18 days 02:59:00</td>\n",
       "      <td>18</td>\n",
       "    </tr>\n",
       "    <tr>\n",
       "      <th>3</th>\n",
       "      <td>5</td>\n",
       "      <td>2017-02-12 04:01:00</td>\n",
       "      <td>310 days 08:49:00</td>\n",
       "      <td>310</td>\n",
       "    </tr>\n",
       "    <tr>\n",
       "      <th>4</th>\n",
       "      <td>6</td>\n",
       "      <td>2017-11-13 02:37:00</td>\n",
       "      <td>36 days 10:13:00</td>\n",
       "      <td>36</td>\n",
       "    </tr>\n",
       "  </tbody>\n",
       "</table>\n",
       "</div>"
      ],
      "text/plain": [
       "   CustomerID                date              days  recency\n",
       "0           2 2017-12-16 03:52:00   3 days 08:58:00        3\n",
       "1           3 2017-10-04 01:13:00  76 days 11:37:00       76\n",
       "2           4 2017-12-01 09:51:00  18 days 02:59:00       18\n",
       "3           5 2017-02-12 04:01:00 310 days 08:49:00      310\n",
       "4           6 2017-11-13 02:37:00  36 days 10:13:00       36"
      ]
     },
     "execution_count": 31,
     "metadata": {},
     "output_type": "execute_result"
    }
   ],
   "source": [
    "cust_purchase_lastdate.head()"
   ]
  },
  {
   "cell_type": "markdown",
   "id": "e1f45ff9-8eb4-41e0-87ff-c96bd6b5ba8c",
   "metadata": {},
   "source": [
    "### Frequency"
   ]
  },
  {
   "cell_type": "code",
   "execution_count": 32,
   "id": "a373c471-927c-40be-a8e8-2387ac0531d1",
   "metadata": {},
   "outputs": [
    {
     "data": {
      "text/html": [
       "<div>\n",
       "<style scoped>\n",
       "    .dataframe tbody tr th:only-of-type {\n",
       "        vertical-align: middle;\n",
       "    }\n",
       "\n",
       "    .dataframe tbody tr th {\n",
       "        vertical-align: top;\n",
       "    }\n",
       "\n",
       "    .dataframe thead th {\n",
       "        text-align: right;\n",
       "    }\n",
       "</style>\n",
       "<table border=\"1\" class=\"dataframe\">\n",
       "  <thead>\n",
       "    <tr style=\"text-align: right;\">\n",
       "      <th></th>\n",
       "      <th>CustomerID</th>\n",
       "      <th>freq</th>\n",
       "    </tr>\n",
       "  </thead>\n",
       "  <tbody>\n",
       "    <tr>\n",
       "      <th>3999</th>\n",
       "      <td>4043</td>\n",
       "      <td>7837</td>\n",
       "    </tr>\n",
       "    <tr>\n",
       "      <th>1877</th>\n",
       "      <td>1896</td>\n",
       "      <td>5674</td>\n",
       "    </tr>\n",
       "    <tr>\n",
       "      <th>1287</th>\n",
       "      <td>1301</td>\n",
       "      <td>5095</td>\n",
       "    </tr>\n",
       "    <tr>\n",
       "      <th>325</th>\n",
       "      <td>331</td>\n",
       "      <td>4580</td>\n",
       "    </tr>\n",
       "    <tr>\n",
       "      <th>1659</th>\n",
       "      <td>1675</td>\n",
       "      <td>2698</td>\n",
       "    </tr>\n",
       "  </tbody>\n",
       "</table>\n",
       "</div>"
      ],
      "text/plain": [
       "      CustomerID  freq\n",
       "3999        4043  7837\n",
       "1877        1896  5674\n",
       "1287        1301  5095\n",
       "325          331  4580\n",
       "1659        1675  2698"
      ]
     },
     "execution_count": 32,
     "metadata": {},
     "output_type": "execute_result"
    }
   ],
   "source": [
    "#  For each customer, count the total number of unique valid (non-cancelled) \n",
    "# transactions (invoices). (Higher value = More Frequent). \n",
    "cust_unique_transactions = new_data.groupby(\"CustomerID\")[\"InvoieNo\"].count()\n",
    "cust_unique_transactions = cust_unique_transactions.reset_index()\n",
    "cust_unique_transactions.columns=[\"CustomerID\",\"freq\"]\n",
    "cust_unique_transactions.sort_values(by=\"freq\", ascending=False).head()"
   ]
  },
  {
   "cell_type": "markdown",
   "id": "7cd63afc-f903-4b93-8140-61431f43b87e",
   "metadata": {},
   "source": [
    "### Monetory Value"
   ]
  },
  {
   "cell_type": "code",
   "execution_count": 33,
   "id": "140fd754-2e32-41e6-aef9-7cc223ae63db",
   "metadata": {},
   "outputs": [
    {
     "data": {
      "text/html": [
       "<div>\n",
       "<style scoped>\n",
       "    .dataframe tbody tr th:only-of-type {\n",
       "        vertical-align: middle;\n",
       "    }\n",
       "\n",
       "    .dataframe tbody tr th {\n",
       "        vertical-align: top;\n",
       "    }\n",
       "\n",
       "    .dataframe thead th {\n",
       "        text-align: right;\n",
       "    }\n",
       "</style>\n",
       "<table border=\"1\" class=\"dataframe\">\n",
       "  <thead>\n",
       "    <tr style=\"text-align: right;\">\n",
       "      <th></th>\n",
       "      <th>CustomerID</th>\n",
       "      <th>monetory_value</th>\n",
       "    </tr>\n",
       "  </thead>\n",
       "  <tbody>\n",
       "    <tr>\n",
       "      <th>1877</th>\n",
       "      <td>1896</td>\n",
       "      <td>3590801360</td>\n",
       "    </tr>\n",
       "    <tr>\n",
       "      <th>1287</th>\n",
       "      <td>1301</td>\n",
       "      <td>1937532150</td>\n",
       "    </tr>\n",
       "    <tr>\n",
       "      <th>3999</th>\n",
       "      <td>4043</td>\n",
       "      <td>1585357156</td>\n",
       "    </tr>\n",
       "    <tr>\n",
       "      <th>1687</th>\n",
       "      <td>1704</td>\n",
       "      <td>1088244317</td>\n",
       "    </tr>\n",
       "    <tr>\n",
       "      <th>561</th>\n",
       "      <td>569</td>\n",
       "      <td>1072978004</td>\n",
       "    </tr>\n",
       "  </tbody>\n",
       "</table>\n",
       "</div>"
      ],
      "text/plain": [
       "      CustomerID  monetory_value\n",
       "1877        1896      3590801360\n",
       "1287        1301      1937532150\n",
       "3999        4043      1585357156\n",
       "1687        1704      1088244317\n",
       "561          569      1072978004"
      ]
     },
     "execution_count": 33,
     "metadata": {},
     "output_type": "execute_result"
    }
   ],
   "source": [
    "# For each customer, sum the total amount spent across all their valid (noncancelled) transactions. \n",
    "# (Higher value = Higher Monetary Value). \n",
    "total_amount_spent = new_data.groupby(\"CustomerID\")[\"total_price\"].sum()\n",
    "total_amount_spent=total_amount_spent.reset_index()\n",
    "total_amount_spent.columns=[\"CustomerID\",\"monetory_value\"]\n",
    "total_amount_spent.sort_values(by=\"monetory_value\", ascending=False).head()"
   ]
  },
  {
   "cell_type": "markdown",
   "id": "a06e6e6c-a641-4391-85b2-3497b0c87c3d",
   "metadata": {},
   "source": [
    "### Final  RFM DataFrame"
   ]
  },
  {
   "cell_type": "code",
   "execution_count": 34,
   "id": "473378b3-3a8a-4645-9d52-932ec7003fb2",
   "metadata": {},
   "outputs": [
    {
     "data": {
      "text/html": [
       "<div>\n",
       "<style scoped>\n",
       "    .dataframe tbody tr th:only-of-type {\n",
       "        vertical-align: middle;\n",
       "    }\n",
       "\n",
       "    .dataframe tbody tr th {\n",
       "        vertical-align: top;\n",
       "    }\n",
       "\n",
       "    .dataframe thead th {\n",
       "        text-align: right;\n",
       "    }\n",
       "</style>\n",
       "<table border=\"1\" class=\"dataframe\">\n",
       "  <thead>\n",
       "    <tr style=\"text-align: right;\">\n",
       "      <th></th>\n",
       "      <th>CustomerID</th>\n",
       "      <th>monetory_value</th>\n",
       "      <th>freq</th>\n",
       "      <th>recency</th>\n",
       "    </tr>\n",
       "  </thead>\n",
       "  <tbody>\n",
       "    <tr>\n",
       "      <th>0</th>\n",
       "      <td>2</td>\n",
       "      <td>113432381</td>\n",
       "      <td>182</td>\n",
       "      <td>3</td>\n",
       "    </tr>\n",
       "    <tr>\n",
       "      <th>1</th>\n",
       "      <td>3</td>\n",
       "      <td>19997016</td>\n",
       "      <td>27</td>\n",
       "      <td>76</td>\n",
       "    </tr>\n",
       "    <tr>\n",
       "      <th>2</th>\n",
       "      <td>4</td>\n",
       "      <td>47709633</td>\n",
       "      <td>72</td>\n",
       "      <td>18</td>\n",
       "    </tr>\n",
       "    <tr>\n",
       "      <th>3</th>\n",
       "      <td>5</td>\n",
       "      <td>9453108</td>\n",
       "      <td>16</td>\n",
       "      <td>310</td>\n",
       "    </tr>\n",
       "    <tr>\n",
       "      <th>4</th>\n",
       "      <td>6</td>\n",
       "      <td>57168296</td>\n",
       "      <td>77</td>\n",
       "      <td>36</td>\n",
       "    </tr>\n",
       "    <tr>\n",
       "      <th>...</th>\n",
       "      <td>...</td>\n",
       "      <td>...</td>\n",
       "      <td>...</td>\n",
       "      <td>...</td>\n",
       "    </tr>\n",
       "    <tr>\n",
       "      <th>4319</th>\n",
       "      <td>4368</td>\n",
       "      <td>7196671</td>\n",
       "      <td>10</td>\n",
       "      <td>277</td>\n",
       "    </tr>\n",
       "    <tr>\n",
       "      <th>4320</th>\n",
       "      <td>4369</td>\n",
       "      <td>2050272</td>\n",
       "      <td>7</td>\n",
       "      <td>180</td>\n",
       "    </tr>\n",
       "    <tr>\n",
       "      <th>4321</th>\n",
       "      <td>4370</td>\n",
       "      <td>9801623</td>\n",
       "      <td>12</td>\n",
       "      <td>8</td>\n",
       "    </tr>\n",
       "    <tr>\n",
       "      <th>4322</th>\n",
       "      <td>4371</td>\n",
       "      <td>68247486</td>\n",
       "      <td>754</td>\n",
       "      <td>3</td>\n",
       "    </tr>\n",
       "    <tr>\n",
       "      <th>4323</th>\n",
       "      <td>4372</td>\n",
       "      <td>41102024</td>\n",
       "      <td>70</td>\n",
       "      <td>43</td>\n",
       "    </tr>\n",
       "  </tbody>\n",
       "</table>\n",
       "<p>4324 rows × 4 columns</p>\n",
       "</div>"
      ],
      "text/plain": [
       "      CustomerID  monetory_value  freq  recency\n",
       "0              2       113432381   182        3\n",
       "1              3        19997016    27       76\n",
       "2              4        47709633    72       18\n",
       "3              5         9453108    16      310\n",
       "4              6        57168296    77       36\n",
       "...          ...             ...   ...      ...\n",
       "4319        4368         7196671    10      277\n",
       "4320        4369         2050272     7      180\n",
       "4321        4370         9801623    12        8\n",
       "4322        4371        68247486   754        3\n",
       "4323        4372        41102024    70       43\n",
       "\n",
       "[4324 rows x 4 columns]"
      ]
     },
     "execution_count": 34,
     "metadata": {},
     "output_type": "execute_result"
    }
   ],
   "source": [
    "freq_monetory = pd.merge(total_amount_spent,cust_unique_transactions, on=\"CustomerID\",how=\"inner\")\n",
    "freq_monetory_recency = pd.merge(freq_monetory,recency_dataframe, on=\"CustomerID\",how=\"inner\")\n",
    "freq_monetory_recency"
   ]
  },
  {
   "cell_type": "markdown",
   "id": "7060803a-5ace-47f5-9dea-6fff0ea72ef8",
   "metadata": {},
   "source": [
    "### R score F score Monetory score RFM Score"
   ]
  },
  {
   "cell_type": "code",
   "execution_count": 35,
   "id": "cf75b934-d8b1-4923-ad6c-291f53d52101",
   "metadata": {},
   "outputs": [],
   "source": [
    "freq_monetory_recency['R_Score'] = pd.qcut(freq_monetory_recency['recency'], 5, labels=[5, 4, 3, 2, 1]).astype(int)\n",
    "freq_monetory_recency['F_Score'] = pd.qcut(freq_monetory_recency['freq'].rank(method='first'), 5, labels=[1, 2, 3, 4, 5]).astype(int)\n",
    "freq_monetory_recency['monetory_Score'] = pd.qcut(freq_monetory_recency['monetory_value'], 5, labels=[1, 2, 3, 4, 5]).astype(int)"
   ]
  },
  {
   "cell_type": "code",
   "execution_count": 36,
   "id": "6816d32c-3d94-43a2-9e79-2bda2990f007",
   "metadata": {},
   "outputs": [],
   "source": [
    "freq_monetory_recency['RFM_Total'] = freq_monetory_recency[['R_Score', 'F_Score', 'monetory_Score']].sum(axis=1)"
   ]
  },
  {
   "cell_type": "code",
   "execution_count": 37,
   "id": "123a2f11-4de0-48cf-86e2-9146befe3ec7",
   "metadata": {},
   "outputs": [
    {
     "data": {
      "text/html": [
       "<div>\n",
       "<style scoped>\n",
       "    .dataframe tbody tr th:only-of-type {\n",
       "        vertical-align: middle;\n",
       "    }\n",
       "\n",
       "    .dataframe tbody tr th {\n",
       "        vertical-align: top;\n",
       "    }\n",
       "\n",
       "    .dataframe thead th {\n",
       "        text-align: right;\n",
       "    }\n",
       "</style>\n",
       "<table border=\"1\" class=\"dataframe\">\n",
       "  <thead>\n",
       "    <tr style=\"text-align: right;\">\n",
       "      <th></th>\n",
       "      <th>CustomerID</th>\n",
       "      <th>monetory_value</th>\n",
       "      <th>freq</th>\n",
       "      <th>recency</th>\n",
       "      <th>R_Score</th>\n",
       "      <th>F_Score</th>\n",
       "      <th>monetory_Score</th>\n",
       "      <th>RFM_Total</th>\n",
       "    </tr>\n",
       "  </thead>\n",
       "  <tbody>\n",
       "    <tr>\n",
       "      <th>0</th>\n",
       "      <td>2</td>\n",
       "      <td>113432381</td>\n",
       "      <td>182</td>\n",
       "      <td>3</td>\n",
       "      <td>5</td>\n",
       "      <td>5</td>\n",
       "      <td>5</td>\n",
       "      <td>15</td>\n",
       "    </tr>\n",
       "    <tr>\n",
       "      <th>1</th>\n",
       "      <td>3</td>\n",
       "      <td>19997016</td>\n",
       "      <td>27</td>\n",
       "      <td>76</td>\n",
       "      <td>2</td>\n",
       "      <td>2</td>\n",
       "      <td>3</td>\n",
       "      <td>7</td>\n",
       "    </tr>\n",
       "    <tr>\n",
       "      <th>2</th>\n",
       "      <td>4</td>\n",
       "      <td>47709633</td>\n",
       "      <td>72</td>\n",
       "      <td>18</td>\n",
       "      <td>4</td>\n",
       "      <td>4</td>\n",
       "      <td>4</td>\n",
       "      <td>12</td>\n",
       "    </tr>\n",
       "    <tr>\n",
       "      <th>3</th>\n",
       "      <td>5</td>\n",
       "      <td>9453108</td>\n",
       "      <td>16</td>\n",
       "      <td>310</td>\n",
       "      <td>1</td>\n",
       "      <td>2</td>\n",
       "      <td>2</td>\n",
       "      <td>5</td>\n",
       "    </tr>\n",
       "    <tr>\n",
       "      <th>4</th>\n",
       "      <td>6</td>\n",
       "      <td>57168296</td>\n",
       "      <td>77</td>\n",
       "      <td>36</td>\n",
       "      <td>3</td>\n",
       "      <td>4</td>\n",
       "      <td>5</td>\n",
       "      <td>12</td>\n",
       "    </tr>\n",
       "  </tbody>\n",
       "</table>\n",
       "</div>"
      ],
      "text/plain": [
       "   CustomerID  monetory_value  freq  recency  R_Score  F_Score  \\\n",
       "0           2       113432381   182        3        5        5   \n",
       "1           3        19997016    27       76        2        2   \n",
       "2           4        47709633    72       18        4        4   \n",
       "3           5         9453108    16      310        1        2   \n",
       "4           6        57168296    77       36        3        4   \n",
       "\n",
       "   monetory_Score  RFM_Total  \n",
       "0               5         15  \n",
       "1               3          7  \n",
       "2               4         12  \n",
       "3               2          5  \n",
       "4               5         12  "
      ]
     },
     "execution_count": 37,
     "metadata": {},
     "output_type": "execute_result"
    }
   ],
   "source": [
    "freq_monetory_recency.head()"
   ]
  },
  {
   "cell_type": "markdown",
   "id": "c1446def-6cc4-4adf-b7ad-9184279c135d",
   "metadata": {},
   "source": [
    "### Create segment categories feature"
   ]
  },
  {
   "cell_type": "code",
   "execution_count": 38,
   "id": "2d9c0119-5610-4fb5-be65-da947b56c341",
   "metadata": {},
   "outputs": [],
   "source": [
    "for index, row in freq_monetory_recency.iterrows():\n",
    "    if row[\"RFM_Total\"] > 10:\n",
    "        freq_monetory_recency.at[index, \"segment_cat\"] = \"Gold\"\n",
    "    elif row[\"RFM_Total\"] > 5:\n",
    "        freq_monetory_recency.at[index, \"segment_cat\"] = \"Silver\"\n",
    "    else:\n",
    "        freq_monetory_recency.at[index, \"segment_cat\"] = \"Platinum\""
   ]
  },
  {
   "cell_type": "code",
   "execution_count": 39,
   "id": "2b578278-3ae8-4c5b-ac8e-82cf50dc1bad",
   "metadata": {},
   "outputs": [
    {
     "data": {
      "text/html": [
       "<div>\n",
       "<style scoped>\n",
       "    .dataframe tbody tr th:only-of-type {\n",
       "        vertical-align: middle;\n",
       "    }\n",
       "\n",
       "    .dataframe tbody tr th {\n",
       "        vertical-align: top;\n",
       "    }\n",
       "\n",
       "    .dataframe thead th {\n",
       "        text-align: right;\n",
       "    }\n",
       "</style>\n",
       "<table border=\"1\" class=\"dataframe\">\n",
       "  <thead>\n",
       "    <tr style=\"text-align: right;\">\n",
       "      <th></th>\n",
       "      <th>CustomerID</th>\n",
       "      <th>monetory_value</th>\n",
       "      <th>freq</th>\n",
       "      <th>recency</th>\n",
       "      <th>R_Score</th>\n",
       "      <th>F_Score</th>\n",
       "      <th>monetory_Score</th>\n",
       "      <th>RFM_Total</th>\n",
       "      <th>segment_cat</th>\n",
       "    </tr>\n",
       "  </thead>\n",
       "  <tbody>\n",
       "    <tr>\n",
       "      <th>0</th>\n",
       "      <td>2</td>\n",
       "      <td>113432381</td>\n",
       "      <td>182</td>\n",
       "      <td>3</td>\n",
       "      <td>5</td>\n",
       "      <td>5</td>\n",
       "      <td>5</td>\n",
       "      <td>15</td>\n",
       "      <td>Gold</td>\n",
       "    </tr>\n",
       "    <tr>\n",
       "      <th>1</th>\n",
       "      <td>3</td>\n",
       "      <td>19997016</td>\n",
       "      <td>27</td>\n",
       "      <td>76</td>\n",
       "      <td>2</td>\n",
       "      <td>2</td>\n",
       "      <td>3</td>\n",
       "      <td>7</td>\n",
       "      <td>Silver</td>\n",
       "    </tr>\n",
       "    <tr>\n",
       "      <th>2</th>\n",
       "      <td>4</td>\n",
       "      <td>47709633</td>\n",
       "      <td>72</td>\n",
       "      <td>18</td>\n",
       "      <td>4</td>\n",
       "      <td>4</td>\n",
       "      <td>4</td>\n",
       "      <td>12</td>\n",
       "      <td>Gold</td>\n",
       "    </tr>\n",
       "    <tr>\n",
       "      <th>3</th>\n",
       "      <td>5</td>\n",
       "      <td>9453108</td>\n",
       "      <td>16</td>\n",
       "      <td>310</td>\n",
       "      <td>1</td>\n",
       "      <td>2</td>\n",
       "      <td>2</td>\n",
       "      <td>5</td>\n",
       "      <td>Platinum</td>\n",
       "    </tr>\n",
       "    <tr>\n",
       "      <th>4</th>\n",
       "      <td>6</td>\n",
       "      <td>57168296</td>\n",
       "      <td>77</td>\n",
       "      <td>36</td>\n",
       "      <td>3</td>\n",
       "      <td>4</td>\n",
       "      <td>5</td>\n",
       "      <td>12</td>\n",
       "      <td>Gold</td>\n",
       "    </tr>\n",
       "  </tbody>\n",
       "</table>\n",
       "</div>"
      ],
      "text/plain": [
       "   CustomerID  monetory_value  freq  recency  R_Score  F_Score  \\\n",
       "0           2       113432381   182        3        5        5   \n",
       "1           3        19997016    27       76        2        2   \n",
       "2           4        47709633    72       18        4        4   \n",
       "3           5         9453108    16      310        1        2   \n",
       "4           6        57168296    77       36        3        4   \n",
       "\n",
       "   monetory_Score  RFM_Total segment_cat  \n",
       "0               5         15        Gold  \n",
       "1               3          7      Silver  \n",
       "2               4         12        Gold  \n",
       "3               2          5    Platinum  \n",
       "4               5         12        Gold  "
      ]
     },
     "execution_count": 39,
     "metadata": {},
     "output_type": "execute_result"
    }
   ],
   "source": [
    "freq_monetory_recency.head()"
   ]
  },
  {
   "cell_type": "markdown",
   "id": "5fb79e05-1041-4504-8b32-ec8eb5a4a808",
   "metadata": {},
   "source": [
    "### distribution of segments"
   ]
  },
  {
   "cell_type": "code",
   "execution_count": 40,
   "id": "6989a999-d9c0-4517-bfe5-f81a6ec31698",
   "metadata": {},
   "outputs": [
    {
     "data": {
      "image/png": "[encoded data removed]",
      "text/plain": [
       "<Figure size 640x480 with 1 Axes>"
      ]
     },
     "metadata": {},
     "output_type": "display_data"
    }
   ],
   "source": [
    "sns.countplot(x=freq_monetory_recency[\"segment_cat\"])\n",
    "plt.show()"
   ]
  },
  {
   "cell_type": "markdown",
   "id": "7fea1a37-c66b-46a3-ad81-f1547f10df48",
   "metadata": {},
   "source": [
    "### Model Building"
   ]
  },
  {
   "cell_type": "code",
   "execution_count": 41,
   "id": "6bd01c8d-23d4-4ae6-9354-1a3ece13ba3c",
   "metadata": {},
   "outputs": [],
   "source": [
    "from sklearn.preprocessing import StandardScaler\n",
    "from sklearn.decomposition import PCA\n",
    "from sklearn.metrics import silhouette_score, silhouette_samples\n",
    "from sklearn.cluster import KMeans\n",
    "import datetime as dt"
   ]
  },
  {
   "cell_type": "code",
   "execution_count": 42,
   "id": "4e862893-cbc9-450a-8d49-822418c28b43",
   "metadata": {},
   "outputs": [],
   "source": [
    "x = freq_monetory_recency[[\"monetory_value\",\"freq\",\"recency\"]]"
   ]
  },
  {
   "cell_type": "code",
   "execution_count": 43,
   "id": "f1b40109-4b6b-40b9-859c-28b9a42f7d71",
   "metadata": {},
   "outputs": [
    {
     "data": {
      "image/png": "[encoded data removed]",
      "text/plain": [
       "<Figure size 640x480 with 1 Axes>"
      ]
     },
     "metadata": {},
     "output_type": "display_data"
    }
   ],
   "source": [
    "sns.scatterplot(x=x[\"monetory_value\"], y=x[\"freq\"])\n",
    "plt.show()"
   ]
  },
  {
   "cell_type": "code",
   "execution_count": 44,
   "id": "2501c813-c7bc-4a0c-87cc-3a9b700db977",
   "metadata": {},
   "outputs": [
    {
     "data": {
      "text/plain": [
       "<Axes: xlabel='recency', ylabel='freq'>"
      ]
     },
     "execution_count": 44,
     "metadata": {},
     "output_type": "execute_result"
    },
    {
     "data": {
      "image/png": "[encoded data removed]",
      "text/plain": [
       "<Figure size 640x480 with 1 Axes>"
      ]
     },
     "metadata": {},
     "output_type": "display_data"
    }
   ],
   "source": [
    "sns.scatterplot(x=x[\"recency\"], y=x[\"freq\"])"
   ]
  },
  {
   "cell_type": "code",
   "execution_count": 45,
   "id": "03742953-f519-4244-bed6-0f31e245bc00",
   "metadata": {},
   "outputs": [
    {
     "data": {
      "image/png": "[encoded data removed]",
      "text/plain": [
       "<Figure size 640x480 with 1 Axes>"
      ]
     },
     "metadata": {},
     "output_type": "display_data"
    }
   ],
   "source": [
    "sns.scatterplot(x=x[\"recency\"], y=x[\"monetory_value\"])\n",
    "plt.show()"
   ]
  },
  {
   "cell_type": "code",
   "execution_count": 46,
   "id": "0fc38fd4-6c75-4842-b93c-ef94c037d2b1",
   "metadata": {},
   "outputs": [
    {
     "name": "stdout",
     "output_type": "stream",
     "text": [
      "[[ 0.78806599  0.39554755 -0.89638051]\n",
      " [-0.23404666 -0.28251951 -0.16717081]\n",
      " [ 0.06910854 -0.08566133 -0.7465429 ]\n",
      " ...\n",
      " [-0.34557659 -0.3481389  -0.84643464]\n",
      " [ 0.29377721  2.89783374 -0.89638051]\n",
      " [-0.00317374 -0.09441058 -0.49681355]]\n"
     ]
    }
   ],
   "source": [
    "scaled = StandardScaler()\n",
    "x_scaled=scaled.fit_transform(x)\n",
    "print(x_scaled)"
   ]
  },
  {
   "cell_type": "code",
   "execution_count": 47,
   "id": "52fd43ac-6d22-4daa-bbd0-cecec61c2692",
   "metadata": {},
   "outputs": [],
   "source": [
    "wcss = []\n",
    "for i in range(1,11):\n",
    "    kmeans_plus = KMeans(n_clusters=i, random_state=30)\n",
    "    kmeans_plus.fit(x_scaled)\n",
    "    wcss.append(kmeans_plus.inertia_)"
   ]
  },
  {
   "cell_type": "code",
   "execution_count": 48,
   "id": "fc3add54-03d1-47ad-9ea5-64d6b09213f7",
   "metadata": {},
   "outputs": [
    {
     "data": {
      "image/png": "[encoded data removed]",
      "text/plain": [
       "<Figure size 640x480 with 1 Axes>"
      ]
     },
     "metadata": {},
     "output_type": "display_data"
    }
   ],
   "source": [
    "plt.plot(range(1,11), wcss, marker='o')\n",
    "plt.show()"
   ]
  },
  {
   "cell_type": "code",
   "execution_count": 49,
   "id": "790618ff-adca-4900-a196-1d40095bf969",
   "metadata": {},
   "outputs": [
    {
     "data": {
      "text/html": [
       "<style>#sk-container-id-1 {\n",
       "  /* Definition of color scheme common for light and dark mode */\n",
       "  --sklearn-color-text: black;\n",
       "  --sklearn-color-line: gray;\n",
       "  /* Definition of color scheme for unfitted estimators */\n",
       "  --sklearn-color-unfitted-level-0: #fff5e6;\n",
       "  --sklearn-color-unfitted-level-1: #f6e4d2;\n",
       "  --sklearn-color-unfitted-level-2: #ffe0b3;\n",
       "  --sklearn-color-unfitted-level-3: chocolate;\n",
       "  /* Definition of color scheme for fitted estimators */\n",
       "  --sklearn-color-fitted-level-0: #f0f8ff;\n",
       "  --sklearn-color-fitted-level-1: #d4ebff;\n",
       "  --sklearn-color-fitted-level-2: #b3dbfd;\n",
       "  --sklearn-color-fitted-level-3: cornflowerblue;\n",
       "\n",
       "  /* Specific color for light theme */\n",
       "  --sklearn-color-text-on-default-background: var(--sg-text-color, var(--theme-code-foreground, var(--jp-content-font-color1, black)));\n",
       "  --sklearn-color-background: var(--sg-background-color, var(--theme-background, var(--jp-layout-color0, white)));\n",
       "  --sklearn-color-border-box: var(--sg-text-color, var(--theme-code-foreground, var(--jp-content-font-color1, black)));\n",
       "  --sklearn-color-icon: #696969;\n",
       "\n",
       "  @media (prefers-color-scheme: dark) {\n",
       "    /* Redefinition of color scheme for dark theme */\n",
       "    --sklearn-color-text-on-default-background: var(--sg-text-color, var(--theme-code-foreground, var(--jp-content-font-color1, white)));\n",
       "    --sklearn-color-background: var(--sg-background-color, var(--theme-background, var(--jp-layout-color0, #111)));\n",
       "    --sklearn-color-border-box: var(--sg-text-color, var(--theme-code-foreground, var(--jp-content-font-color1, white)));\n",
       "    --sklearn-color-icon: #878787;\n",
       "  }\n",
       "}\n",
       "\n",
       "#sk-container-id-1 {\n",
       "  color: var(--sklearn-color-text);\n",
       "}\n",
       "\n",
       "#sk-container-id-1 pre {\n",
       "  padding: 0;\n",
       "}\n",
       "\n",
       "#sk-container-id-1 input.sk-hidden--visually {\n",
       "  border: 0;\n",
       "  clip: rect(1px 1px 1px 1px);\n",
       "  clip: rect(1px, 1px, 1px, 1px);\n",
       "  height: 1px;\n",
       "  margin: -1px;\n",
       "  overflow: hidden;\n",
       "  padding: 0;\n",
       "  position: absolute;\n",
       "  width: 1px;\n",
       "}\n",
       "\n",
       "#sk-container-id-1 div.sk-dashed-wrapped {\n",
       "  border: 1px dashed var(--sklearn-color-line);\n",
       "  margin: 0 0.4em 0.5em 0.4em;\n",
       "  box-sizing: border-box;\n",
       "  padding-bottom: 0.4em;\n",
       "  background-color: var(--sklearn-color-background);\n",
       "}\n",
       "\n",
       "#sk-container-id-1 div.sk-container {\n",
       "  /* jupyter's `normalize.less` sets `[hidden] { display: none; }`\n",
       "     but bootstrap.min.css set `[hidden] { display: none !important; }`\n",
       "     so we also need the `!important` here to be able to override the\n",
       "     default hidden behavior on the sphinx rendered scikit-learn.org.\n",
       "     See: https://github.com/scikit-learn/scikit-learn/issues/21755 */\n",
       "  display: inline-block !important;\n",
       "  position: relative;\n",
       "}\n",
       "\n",
       "#sk-container-id-1 div.sk-text-repr-fallback {\n",
       "  display: none;\n",
       "}\n",
       "\n",
       "div.sk-parallel-item,\n",
       "div.sk-serial,\n",
       "div.sk-item {\n",
       "  /* draw centered vertical line to link estimators */\n",
       "  background-image: linear-gradient(var(--sklearn-color-text-on-default-background), var(--sklearn-color-text-on-default-background));\n",
       "  background-size: 2px 100%;\n",
       "  background-repeat: no-repeat;\n",
       "  background-position: center center;\n",
       "}\n",
       "\n",
       "/* Parallel-specific style estimator block */\n",
       "\n",
       "#sk-container-id-1 div.sk-parallel-item::after {\n",
       "  content: \"\";\n",
       "  width: 100%;\n",
       "  border-bottom: 2px solid var(--sklearn-color-text-on-default-background);\n",
       "  flex-grow: 1;\n",
       "}\n",
       "\n",
       "#sk-container-id-1 div.sk-parallel {\n",
       "  display: flex;\n",
       "  align-items: stretch;\n",
       "  justify-content: center;\n",
       "  background-color: var(--sklearn-color-background);\n",
       "  position: relative;\n",
       "}\n",
       "\n",
       "#sk-container-id-1 div.sk-parallel-item {\n",
       "  display: flex;\n",
       "  flex-direction: column;\n",
       "}\n",
       "\n",
       "#sk-container-id-1 div.sk-parallel-item:first-child::after {\n",
       "  align-self: flex-end;\n",
       "  width: 50%;\n",
       "}\n",
       "\n",
       "#sk-container-id-1 div.sk-parallel-item:last-child::after {\n",
       "  align-self: flex-start;\n",
       "  width: 50%;\n",
       "}\n",
       "\n",
       "#sk-container-id-1 div.sk-parallel-item:only-child::after {\n",
       "  width: 0;\n",
       "}\n",
       "\n",
       "/* Serial-specific style estimator block */\n",
       "\n",
       "#sk-container-id-1 div.sk-serial {\n",
       "  display: flex;\n",
       "  flex-direction: column;\n",
       "  align-items: center;\n",
       "  background-color: var(--sklearn-color-background);\n",
       "  padding-right: 1em;\n",
       "  padding-left: 1em;\n",
       "}\n",
       "\n",
       "\n",
       "/* Toggleable style: style used for estimator/Pipeline/ColumnTransformer box that is\n",
       "clickable and can be expanded/collapsed.\n",
       "- Pipeline and ColumnTransformer use this feature and define the default style\n",
       "- Estimators will overwrite some part of the style using the `sk-estimator` class\n",
       "*/\n",
       "\n",
       "/* Pipeline and ColumnTransformer style (default) */\n",
       "\n",
       "#sk-container-id-1 div.sk-toggleable {\n",
       "  /* Default theme specific background. It is overwritten whether we have a\n",
       "  specific estimator or a Pipeline/ColumnTransformer */\n",
       "  background-color: var(--sklearn-color-background);\n",
       "}\n",
       "\n",
       "/* Toggleable label */\n",
       "#sk-container-id-1 label.sk-toggleable__label {\n",
       "  cursor: pointer;\n",
       "  display: block;\n",
       "  width: 100%;\n",
       "  margin-bottom: 0;\n",
       "  padding: 0.5em;\n",
       "  box-sizing: border-box;\n",
       "  text-align: center;\n",
       "}\n",
       "\n",
       "#sk-container-id-1 label.sk-toggleable__label-arrow:before {\n",
       "  /* Arrow on the left of the label */\n",
       "  content: \"▸\";\n",
       "  float: left;\n",
       "  margin-right: 0.25em;\n",
       "  color: var(--sklearn-color-icon);\n",
       "}\n",
       "\n",
       "#sk-container-id-1 label.sk-toggleable__label-arrow:hover:before {\n",
       "  color: var(--sklearn-color-text);\n",
       "}\n",
       "\n",
       "/* Toggleable content - dropdown */\n",
       "\n",
       "#sk-container-id-1 div.sk-toggleable__content {\n",
       "  max-height: 0;\n",
       "  max-width: 0;\n",
       "  overflow: hidden;\n",
       "  text-align: left;\n",
       "  /* unfitted */\n",
       "  background-color: var(--sklearn-color-unfitted-level-0);\n",
       "}\n",
       "\n",
       "#sk-container-id-1 div.sk-toggleable__content.fitted {\n",
       "  /* fitted */\n",
       "  background-color: var(--sklearn-color-fitted-level-0);\n",
       "}\n",
       "\n",
       "#sk-container-id-1 div.sk-toggleable__content pre {\n",
       "  margin: 0.2em;\n",
       "  border-radius: 0.25em;\n",
       "  color: var(--sklearn-color-text);\n",
       "  /* unfitted */\n",
       "  background-color: var(--sklearn-color-unfitted-level-0);\n",
       "}\n",
       "\n",
       "#sk-container-id-1 div.sk-toggleable__content.fitted pre {\n",
       "  /* unfitted */\n",
       "  background-color: var(--sklearn-color-fitted-level-0);\n",
       "}\n",
       "\n",
       "#sk-container-id-1 input.sk-toggleable__control:checked~div.sk-toggleable__content {\n",
       "  /* Expand drop-down */\n",
       "  max-height: 200px;\n",
       "  max-width: 100%;\n",
       "  overflow: auto;\n",
       "}\n",
       "\n",
       "#sk-container-id-1 input.sk-toggleable__control:checked~label.sk-toggleable__label-arrow:before {\n",
       "  content: \"▾\";\n",
       "}\n",
       "\n",
       "/* Pipeline/ColumnTransformer-specific style */\n",
       "\n",
       "#sk-container-id-1 div.sk-label input.sk-toggleable__control:checked~label.sk-toggleable__label {\n",
       "  color: var(--sklearn-color-text);\n",
       "  background-color: var(--sklearn-color-unfitted-level-2);\n",
       "}\n",
       "\n",
       "#sk-container-id-1 div.sk-label.fitted input.sk-toggleable__control:checked~label.sk-toggleable__label {\n",
       "  background-color: var(--sklearn-color-fitted-level-2);\n",
       "}\n",
       "\n",
       "/* Estimator-specific style */\n",
       "\n",
       "/* Colorize estimator box */\n",
       "#sk-container-id-1 div.sk-estimator input.sk-toggleable__control:checked~label.sk-toggleable__label {\n",
       "  /* unfitted */\n",
       "  background-color: var(--sklearn-color-unfitted-level-2);\n",
       "}\n",
       "\n",
       "#sk-container-id-1 div.sk-estimator.fitted input.sk-toggleable__control:checked~label.sk-toggleable__label {\n",
       "  /* fitted */\n",
       "  background-color: var(--sklearn-color-fitted-level-2);\n",
       "}\n",
       "\n",
       "#sk-container-id-1 div.sk-label label.sk-toggleable__label,\n",
       "#sk-container-id-1 div.sk-label label {\n",
       "  /* The background is the default theme color */\n",
       "  color: var(--sklearn-color-text-on-default-background);\n",
       "}\n",
       "\n",
       "/* On hover, darken the color of the background */\n",
       "#sk-container-id-1 div.sk-label:hover label.sk-toggleable__label {\n",
       "  color: var(--sklearn-color-text);\n",
       "  background-color: var(--sklearn-color-unfitted-level-2);\n",
       "}\n",
       "\n",
       "/* Label box, darken color on hover, fitted */\n",
       "#sk-container-id-1 div.sk-label.fitted:hover label.sk-toggleable__label.fitted {\n",
       "  color: var(--sklearn-color-text);\n",
       "  background-color: var(--sklearn-color-fitted-level-2);\n",
       "}\n",
       "\n",
       "/* Estimator label */\n",
       "\n",
       "#sk-container-id-1 div.sk-label label {\n",
       "  font-family: monospace;\n",
       "  font-weight: bold;\n",
       "  display: inline-block;\n",
       "  line-height: 1.2em;\n",
       "}\n",
       "\n",
       "#sk-container-id-1 div.sk-label-container {\n",
       "  text-align: center;\n",
       "}\n",
       "\n",
       "/* Estimator-specific */\n",
       "#sk-container-id-1 div.sk-estimator {\n",
       "  font-family: monospace;\n",
       "  border: 1px dotted var(--sklearn-color-border-box);\n",
       "  border-radius: 0.25em;\n",
       "  box-sizing: border-box;\n",
       "  margin-bottom: 0.5em;\n",
       "  /* unfitted */\n",
       "  background-color: var(--sklearn-color-unfitted-level-0);\n",
       "}\n",
       "\n",
       "#sk-container-id-1 div.sk-estimator.fitted {\n",
       "  /* fitted */\n",
       "  background-color: var(--sklearn-color-fitted-level-0);\n",
       "}\n",
       "\n",
       "/* on hover */\n",
       "#sk-container-id-1 div.sk-estimator:hover {\n",
       "  /* unfitted */\n",
       "  background-color: var(--sklearn-color-unfitted-level-2);\n",
       "}\n",
       "\n",
       "#sk-container-id-1 div.sk-estimator.fitted:hover {\n",
       "  /* fitted */\n",
       "  background-color: var(--sklearn-color-fitted-level-2);\n",
       "}\n",
       "\n",
       "/* Specification for estimator info (e.g. \"i\" and \"?\") */\n",
       "\n",
       "/* Common style for \"i\" and \"?\" */\n",
       "\n",
       ".sk-estimator-doc-link,\n",
       "a:link.sk-estimator-doc-link,\n",
       "a:visited.sk-estimator-doc-link {\n",
       "  float: right;\n",
       "  font-size: smaller;\n",
       "  line-height: 1em;\n",
       "  font-family: monospace;\n",
       "  background-color: var(--sklearn-color-background);\n",
       "  border-radius: 1em;\n",
       "  height: 1em;\n",
       "  width: 1em;\n",
       "  text-decoration: none !important;\n",
       "  margin-left: 1ex;\n",
       "  /* unfitted */\n",
       "  border: var(--sklearn-color-unfitted-level-1) 1pt solid;\n",
       "  color: var(--sklearn-color-unfitted-level-1);\n",
       "}\n",
       "\n",
       ".sk-estimator-doc-link.fitted,\n",
       "a:link.sk-estimator-doc-link.fitted,\n",
       "a:visited.sk-estimator-doc-link.fitted {\n",
       "  /* fitted */\n",
       "  border: var(--sklearn-color-fitted-level-1) 1pt solid;\n",
       "  color: var(--sklearn-color-fitted-level-1);\n",
       "}\n",
       "\n",
       "/* On hover */\n",
       "div.sk-estimator:hover .sk-estimator-doc-link:hover,\n",
       ".sk-estimator-doc-link:hover,\n",
       "div.sk-label-container:hover .sk-estimator-doc-link:hover,\n",
       ".sk-estimator-doc-link:hover {\n",
       "  /* unfitted */\n",
       "  background-color: var(--sklearn-color-unfitted-level-3);\n",
       "  color: var(--sklearn-color-background);\n",
       "  text-decoration: none;\n",
       "}\n",
       "\n",
       "div.sk-estimator.fitted:hover .sk-estimator-doc-link.fitted:hover,\n",
       ".sk-estimator-doc-link.fitted:hover,\n",
       "div.sk-label-container:hover .sk-estimator-doc-link.fitted:hover,\n",
       ".sk-estimator-doc-link.fitted:hover {\n",
       "  /* fitted */\n",
       "  background-color: var(--sklearn-color-fitted-level-3);\n",
       "  color: var(--sklearn-color-background);\n",
       "  text-decoration: none;\n",
       "}\n",
       "\n",
       "/* Span, style for the box shown on hovering the info icon */\n",
       ".sk-estimator-doc-link span {\n",
       "  display: none;\n",
       "  z-index: 9999;\n",
       "  position: relative;\n",
       "  font-weight: normal;\n",
       "  right: .2ex;\n",
       "  padding: .5ex;\n",
       "  margin: .5ex;\n",
       "  width: min-content;\n",
       "  min-width: 20ex;\n",
       "  max-width: 50ex;\n",
       "  color: var(--sklearn-color-text);\n",
       "  box-shadow: 2pt 2pt 4pt #999;\n",
       "  /* unfitted */\n",
       "  background: var(--sklearn-color-unfitted-level-0);\n",
       "  border: .5pt solid var(--sklearn-color-unfitted-level-3);\n",
       "}\n",
       "\n",
       ".sk-estimator-doc-link.fitted span {\n",
       "  /* fitted */\n",
       "  background: var(--sklearn-color-fitted-level-0);\n",
       "  border: var(--sklearn-color-fitted-level-3);\n",
       "}\n",
       "\n",
       ".sk-estimator-doc-link:hover span {\n",
       "  display: block;\n",
       "}\n",
       "\n",
       "/* \"?\"-specific style due to the `<a>` HTML tag */\n",
       "\n",
       "#sk-container-id-1 a.estimator_doc_link {\n",
       "  float: right;\n",
       "  font-size: 1rem;\n",
       "  line-height: 1em;\n",
       "  font-family: monospace;\n",
       "  background-color: var(--sklearn-color-background);\n",
       "  border-radius: 1rem;\n",
       "  height: 1rem;\n",
       "  width: 1rem;\n",
       "  text-decoration: none;\n",
       "  /* unfitted */\n",
       "  color: var(--sklearn-color-unfitted-level-1);\n",
       "  border: var(--sklearn-color-unfitted-level-1) 1pt solid;\n",
       "}\n",
       "\n",
       "#sk-container-id-1 a.estimator_doc_link.fitted {\n",
       "  /* fitted */\n",
       "  border: var(--sklearn-color-fitted-level-1) 1pt solid;\n",
       "  color: var(--sklearn-color-fitted-level-1);\n",
       "}\n",
       "\n",
       "/* On hover */\n",
       "#sk-container-id-1 a.estimator_doc_link:hover {\n",
       "  /* unfitted */\n",
       "  background-color: var(--sklearn-color-unfitted-level-3);\n",
       "  color: var(--sklearn-color-background);\n",
       "  text-decoration: none;\n",
       "}\n",
       "\n",
       "#sk-container-id-1 a.estimator_doc_link.fitted:hover {\n",
       "  /* fitted */\n",
       "  background-color: var(--sklearn-color-fitted-level-3);\n",
       "}\n",
       "</style><div id=\"sk-container-id-1\" class=\"sk-top-container\"><div class=\"sk-text-repr-fallback\"><pre>KMeans(n_clusters=3, random_state=42)</pre><b>In a Jupyter environment, please rerun this cell to show the HTML representation or trust the notebook. <br />On GitHub, the HTML representation is unable to render, please try loading this page with nbviewer.org.</b></div><div class=\"sk-container\" hidden><div class=\"sk-item\"><div class=\"sk-estimator fitted sk-toggleable\"><input class=\"sk-toggleable__control sk-hidden--visually\" id=\"sk-estimator-id-1\" type=\"checkbox\" checked><label for=\"sk-estimator-id-1\" class=\"sk-toggleable__label fitted sk-toggleable__label-arrow fitted\">&nbsp;&nbsp;KMeans<a class=\"sk-estimator-doc-link fitted\" rel=\"noreferrer\" target=\"_blank\" href=\"https://scikit-learn.org/1.5/modules/generated/sklearn.cluster.KMeans.html\">?<span>Documentation for KMeans</span></a><span class=\"sk-estimator-doc-link fitted\">i<span>Fitted</span></span></label><div class=\"sk-toggleable__content fitted\"><pre>KMeans(n_clusters=3, random_state=42)</pre></div> </div></div></div></div>"
      ],
      "text/plain": [
       "KMeans(n_clusters=3, random_state=42)"
      ]
     },
     "execution_count": 49,
     "metadata": {},
     "output_type": "execute_result"
    }
   ],
   "source": [
    "kmeans_plus = KMeans(n_clusters=3, random_state=42)\n",
    "kmeans_plus.fit(x_scaled)"
   ]
  },
  {
   "cell_type": "code",
   "execution_count": 50,
   "id": "8433ebb2-4190-41dd-8246-69e28e9a0aa8",
   "metadata": {},
   "outputs": [],
   "source": [
    "labels = kmeans_plus.fit_predict(x_scaled)"
   ]
  },
  {
   "cell_type": "code",
   "execution_count": 51,
   "id": "61a1b194-787b-42c7-8c33-f83d7784fd36",
   "metadata": {},
   "outputs": [
    {
     "name": "stdout",
     "output_type": "stream",
     "text": [
      "[1 1 1 ... 1 1 1]\n"
     ]
    }
   ],
   "source": [
    "print(labels)"
   ]
  },
  {
   "cell_type": "code",
   "execution_count": 52,
   "id": "07ebfaf1-480c-4c9f-8e3f-0ece89936ab5",
   "metadata": {},
   "outputs": [
    {
     "data": {
      "text/plain": [
       "Index(['monetory_value', 'freq', 'recency'], dtype='object')"
      ]
     },
     "execution_count": 52,
     "metadata": {},
     "output_type": "execute_result"
    }
   ],
   "source": [
    "x.columns"
   ]
  },
  {
   "cell_type": "code",
   "execution_count": 53,
   "id": "29e9ce7c-1721-4f20-aa5b-7b8777175bc9",
   "metadata": {},
   "outputs": [
    {
     "data": {
      "text/html": [
       "<div>\n",
       "<style scoped>\n",
       "    .dataframe tbody tr th:only-of-type {\n",
       "        vertical-align: middle;\n",
       "    }\n",
       "\n",
       "    .dataframe tbody tr th {\n",
       "        vertical-align: top;\n",
       "    }\n",
       "\n",
       "    .dataframe thead th {\n",
       "        text-align: right;\n",
       "    }\n",
       "</style>\n",
       "<table border=\"1\" class=\"dataframe\">\n",
       "  <thead>\n",
       "    <tr style=\"text-align: right;\">\n",
       "      <th></th>\n",
       "      <th>monetory_value</th>\n",
       "      <th>freq</th>\n",
       "      <th>recency</th>\n",
       "    </tr>\n",
       "  </thead>\n",
       "  <tbody>\n",
       "    <tr>\n",
       "      <th>0</th>\n",
       "      <td>0.788066</td>\n",
       "      <td>0.395548</td>\n",
       "      <td>-0.896381</td>\n",
       "    </tr>\n",
       "    <tr>\n",
       "      <th>1</th>\n",
       "      <td>-0.234047</td>\n",
       "      <td>-0.282520</td>\n",
       "      <td>-0.167171</td>\n",
       "    </tr>\n",
       "    <tr>\n",
       "      <th>2</th>\n",
       "      <td>0.069109</td>\n",
       "      <td>-0.085661</td>\n",
       "      <td>-0.746543</td>\n",
       "    </tr>\n",
       "    <tr>\n",
       "      <th>3</th>\n",
       "      <td>-0.349389</td>\n",
       "      <td>-0.330640</td>\n",
       "      <td>2.170296</td>\n",
       "    </tr>\n",
       "    <tr>\n",
       "      <th>4</th>\n",
       "      <td>0.172579</td>\n",
       "      <td>-0.063788</td>\n",
       "      <td>-0.566738</td>\n",
       "    </tr>\n",
       "  </tbody>\n",
       "</table>\n",
       "</div>"
      ],
      "text/plain": [
       "   monetory_value      freq   recency\n",
       "0        0.788066  0.395548 -0.896381\n",
       "1       -0.234047 -0.282520 -0.167171\n",
       "2        0.069109 -0.085661 -0.746543\n",
       "3       -0.349389 -0.330640  2.170296\n",
       "4        0.172579 -0.063788 -0.566738"
      ]
     },
     "execution_count": 53,
     "metadata": {},
     "output_type": "execute_result"
    }
   ],
   "source": [
    "new = pd.DataFrame(x_scaled, columns=x.columns)\n",
    "new.head()"
   ]
  },
  {
   "cell_type": "code",
   "execution_count": 54,
   "id": "4a68e2c5-ed0e-4901-b13e-4c682decaec3",
   "metadata": {},
   "outputs": [
    {
     "data": {
      "image/png": "[encoded data removed]",
      "text/plain": [
       "<Figure size 640x480 with 1 Axes>"
      ]
     },
     "metadata": {},
     "output_type": "display_data"
    }
   ],
   "source": [
    "sns.scatterplot(x=x[\"monetory_value\"], y=x[\"freq\"], hue=labels.astype(str), palette=\"deep\")\n",
    "sns.scatterplot(x=kmeans_plus.cluster_centers_[:,0],y=kmeans_plus.cluster_centers_[:,1],\n",
    "               color=\"red\",s=100, label=\"Centroids\")\n",
    "plt.show()"
   ]
  },
  {
   "cell_type": "code",
   "execution_count": 55,
   "id": "65fa28ed-dd2c-430e-958b-69121feb5e06",
   "metadata": {},
   "outputs": [
    {
     "name": "stdout",
     "output_type": "stream",
     "text": [
      "0.5650795350056793\n"
     ]
    }
   ],
   "source": [
    "sil_score=silhouette_score(x_scaled, labels)\n",
    "print(sil_score)"
   ]
  },
  {
   "cell_type": "code",
   "execution_count": 56,
   "id": "2029695a-9269-4dce-8334-d6cc2f8cafe8",
   "metadata": {},
   "outputs": [
    {
     "data": {
      "text/plain": [
       "array([0.56989498, 0.53854288, 0.68986768, ..., 0.65006447, 0.26400009,\n",
       "       0.67206504])"
      ]
     },
     "execution_count": 56,
     "metadata": {},
     "output_type": "execute_result"
    }
   ],
   "source": [
    "sil_values=silhouette_samples(x_scaled, labels)\n",
    "sil_values"
   ]
  },
  {
   "cell_type": "code",
   "execution_count": 57,
   "id": "ed06e418-5c2c-40d8-a08b-a63f87b1dd09",
   "metadata": {},
   "outputs": [
    {
     "data": {
      "text/html": [
       "<div>\n",
       "<style scoped>\n",
       "    .dataframe tbody tr th:only-of-type {\n",
       "        vertical-align: middle;\n",
       "    }\n",
       "\n",
       "    .dataframe tbody tr th {\n",
       "        vertical-align: top;\n",
       "    }\n",
       "\n",
       "    .dataframe thead th {\n",
       "        text-align: right;\n",
       "    }\n",
       "</style>\n",
       "<table border=\"1\" class=\"dataframe\">\n",
       "  <thead>\n",
       "    <tr style=\"text-align: right;\">\n",
       "      <th></th>\n",
       "      <th>Cluster</th>\n",
       "      <th>silhouette</th>\n",
       "    </tr>\n",
       "  </thead>\n",
       "  <tbody>\n",
       "    <tr>\n",
       "      <th>0</th>\n",
       "      <td>1</td>\n",
       "      <td>0.569895</td>\n",
       "    </tr>\n",
       "    <tr>\n",
       "      <th>1</th>\n",
       "      <td>1</td>\n",
       "      <td>0.538543</td>\n",
       "    </tr>\n",
       "    <tr>\n",
       "      <th>2</th>\n",
       "      <td>1</td>\n",
       "      <td>0.689868</td>\n",
       "    </tr>\n",
       "    <tr>\n",
       "      <th>3</th>\n",
       "      <td>0</td>\n",
       "      <td>0.710948</td>\n",
       "    </tr>\n",
       "    <tr>\n",
       "      <th>4</th>\n",
       "      <td>1</td>\n",
       "      <td>0.666549</td>\n",
       "    </tr>\n",
       "  </tbody>\n",
       "</table>\n",
       "</div>"
      ],
      "text/plain": [
       "   Cluster  silhouette\n",
       "0        1    0.569895\n",
       "1        1    0.538543\n",
       "2        1    0.689868\n",
       "3        0    0.710948\n",
       "4        1    0.666549"
      ]
     },
     "execution_count": 57,
     "metadata": {},
     "output_type": "execute_result"
    }
   ],
   "source": [
    "sil_df=pd.DataFrame({\"Cluster\":labels, \"silhouette\":sil_values})\n",
    "sil_df.head()"
   ]
  },
  {
   "cell_type": "code",
   "execution_count": 58,
   "id": "2e9db0ff-ebf2-491b-bc81-3d3da3454e1d",
   "metadata": {},
   "outputs": [
    {
     "data": {
      "text/plain": [
       "Cluster\n",
       "0    0.593370\n",
       "1    0.556566\n",
       "2    0.173263\n",
       "Name: silhouette, dtype: float64"
      ]
     },
     "execution_count": 58,
     "metadata": {},
     "output_type": "execute_result"
    }
   ],
   "source": [
    "cluster_sil_score=sil_df.groupby(\"Cluster\")[\"silhouette\"].mean()\n",
    "cluster_sil_score"
   ]
  },
  {
   "cell_type": "markdown",
   "id": "9b12c9b5-7a40-4602-846d-285e54e8f639",
   "metadata": {},
   "source": [
    "## PCA"
   ]
  },
  {
   "cell_type": "code",
   "execution_count": 59,
   "id": "eae44715-1113-43a3-b50b-dfd35f4475c9",
   "metadata": {},
   "outputs": [],
   "source": [
    "pca=PCA()\n",
    "x_pca_full=pca.fit_transform(x_scaled)"
   ]
  },
  {
   "cell_type": "code",
   "execution_count": 60,
   "id": "fc1d2242-85bf-4f5e-b652-475b5c4e9d85",
   "metadata": {},
   "outputs": [
    {
     "name": "stdout",
     "output_type": "stream",
     "text": [
      "[0.65785604 0.30137214 0.04077182]\n",
      "[0.65785604 0.95922818 1.        ]\n"
     ]
    }
   ],
   "source": [
    "print(pca.explained_variance_ratio_)\n",
    "print(np.cumsum(pca.explained_variance_ratio_))"
   ]
  },
  {
   "cell_type": "code",
   "execution_count": 61,
   "id": "920cff96-2796-44fb-a036-5d22895fc6da",
   "metadata": {},
   "outputs": [],
   "source": [
    "pca=PCA(n_components=2)\n",
    "x_pca2=pca.fit_transform(x_scaled)\n",
    "x_pca=pd.DataFrame(x_pca2, columns=[\"pca1\",\"pca2\"])"
   ]
  },
  {
   "cell_type": "code",
   "execution_count": 62,
   "id": "158366a9-d025-4cf1-b29a-7bb8040cd1ad",
   "metadata": {},
   "outputs": [],
   "source": [
    "kmeans_plus=KMeans(n_clusters=3, random_state=30)\n",
    "labels=kmeans_plus.fit_predict(x_pca)"
   ]
  },
  {
   "cell_type": "code",
   "execution_count": 63,
   "id": "13b011c0-04a6-4af7-b9eb-c161a181c2da",
   "metadata": {},
   "outputs": [
    {
     "data": {
      "image/png": "[encoded data removed]",
      "text/plain": [
       "<Figure size 640x480 with 1 Axes>"
      ]
     },
     "metadata": {},
     "output_type": "display_data"
    }
   ],
   "source": [
    "sns.scatterplot(x=x_pca[\"pca1\"],y=x_pca[\"pca2\"], hue=labels.astype(str), palette=\"deep\")\n",
    "\n",
    "sns.scatterplot(x=kmeans_plus.cluster_centers_[:,0],y=kmeans_plus.cluster_centers_[:,1],\n",
    "               s=100, color=\"black\")\n",
    "plt.show()"
   ]
  },
  {
   "cell_type": "code",
   "execution_count": 64,
   "id": "f17c82c8-3c3f-45d6-9eff-5e1eda463997",
   "metadata": {},
   "outputs": [],
   "source": [
    "kmeans_pca=KMeans(n_clusters=3, random_state=30)\n",
    "labels_pca=kmeans_pca.fit_predict(x_pca)"
   ]
  },
  {
   "cell_type": "code",
   "execution_count": 65,
   "id": "3ecde53d-dcbb-4444-8d05-5a2bc5867941",
   "metadata": {},
   "outputs": [
    {
     "name": "stdout",
     "output_type": "stream",
     "text": [
      "0.5708693548778667\n"
     ]
    }
   ],
   "source": [
    "sil_score_pca=silhouette_score(x_pca, labels_pca)\n",
    "print(sil_score_pca)"
   ]
  },
  {
   "cell_type": "code",
   "execution_count": 66,
   "id": "bb1ad50f-d591-4630-a3b6-a7f82288c06d",
   "metadata": {},
   "outputs": [
    {
     "data": {
      "text/plain": [
       "array([0.58260888, 0.53796977, 0.69709829, ..., 0.64917766, 0.36138077,\n",
       "       0.6762122 ])"
      ]
     },
     "execution_count": 66,
     "metadata": {},
     "output_type": "execute_result"
    }
   ],
   "source": [
    "sil_values_pca=silhouette_samples(x_pca, labels_pca)\n",
    "sil_values_pca"
   ]
  },
  {
   "cell_type": "code",
   "execution_count": 67,
   "id": "3c416841-cc1c-4d6d-8f0d-8d6222f5095b",
   "metadata": {},
   "outputs": [
    {
     "data": {
      "text/html": [
       "<div>\n",
       "<style scoped>\n",
       "    .dataframe tbody tr th:only-of-type {\n",
       "        vertical-align: middle;\n",
       "    }\n",
       "\n",
       "    .dataframe tbody tr th {\n",
       "        vertical-align: top;\n",
       "    }\n",
       "\n",
       "    .dataframe thead th {\n",
       "        text-align: right;\n",
       "    }\n",
       "</style>\n",
       "<table border=\"1\" class=\"dataframe\">\n",
       "  <thead>\n",
       "    <tr style=\"text-align: right;\">\n",
       "      <th></th>\n",
       "      <th>Cluster</th>\n",
       "      <th>silhouette</th>\n",
       "    </tr>\n",
       "  </thead>\n",
       "  <tbody>\n",
       "    <tr>\n",
       "      <th>0</th>\n",
       "      <td>1</td>\n",
       "      <td>0.582609</td>\n",
       "    </tr>\n",
       "    <tr>\n",
       "      <th>1</th>\n",
       "      <td>1</td>\n",
       "      <td>0.537970</td>\n",
       "    </tr>\n",
       "    <tr>\n",
       "      <th>2</th>\n",
       "      <td>1</td>\n",
       "      <td>0.697098</td>\n",
       "    </tr>\n",
       "    <tr>\n",
       "      <th>3</th>\n",
       "      <td>0</td>\n",
       "      <td>0.712606</td>\n",
       "    </tr>\n",
       "    <tr>\n",
       "      <th>4</th>\n",
       "      <td>1</td>\n",
       "      <td>0.679685</td>\n",
       "    </tr>\n",
       "  </tbody>\n",
       "</table>\n",
       "</div>"
      ],
      "text/plain": [
       "   Cluster  silhouette\n",
       "0        1    0.582609\n",
       "1        1    0.537970\n",
       "2        1    0.697098\n",
       "3        0    0.712606\n",
       "4        1    0.679685"
      ]
     },
     "execution_count": 67,
     "metadata": {},
     "output_type": "execute_result"
    }
   ],
   "source": [
    "sil_df1=pd.DataFrame({\"Cluster\":labels_pca, \"silhouette\":sil_values_pca})\n",
    "sil_df1.head()"
   ]
  },
  {
   "cell_type": "code",
   "execution_count": 68,
   "id": "4b516f79-25a4-4a70-91f5-afd0990d5b64",
   "metadata": {},
   "outputs": [
    {
     "data": {
      "text/plain": [
       "Cluster\n",
       "0    0.597244\n",
       "1    0.561900\n",
       "2    0.582350\n",
       "Name: silhouette, dtype: float64"
      ]
     },
     "execution_count": 68,
     "metadata": {},
     "output_type": "execute_result"
    }
   ],
   "source": [
    "cluster_sil_score=sil_df1.groupby(\"Cluster\")[\"silhouette\"].mean()\n",
    "cluster_sil_score"
   ]
  },
  {
   "cell_type": "code",
   "execution_count": null,
   "id": "7658ecac-02dc-4cde-a5cb-b3e3645c46af",
   "metadata": {},
   "outputs": [],
   "source": []
  },
  {
   "cell_type": "code",
   "execution_count": null,
   "id": "ed4f19b6-313f-4d6f-be5e-842e454191d9",
   "metadata": {},
   "outputs": [],
   "source": []
  }
 ],
 "metadata": {
  "kernelspec": {
   "display_name": "Python 3 (ipykernel)",
   "language": "python",
   "name": "python3"
  },
  "language_info": {
   "codemirror_mode": {
    "name": "ipython",
    "version": 3
   },
   "file_extension": ".py",
   "mimetype": "text/x-python",
   "name": "python",
   "nbconvert_exporter": "python",
   "pygments_lexer": "ipython3",
   "version": "3.12.7"
  }
 },
 "nbformat": 4,
 "nbformat_minor": 5
}
